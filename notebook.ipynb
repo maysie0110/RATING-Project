{
 "cells": [
  {
   "cell_type": "markdown",
   "source": "# RATING Project",
   "metadata": {
    "cell_id": "37db3b7a-c81d-4f6a-b8a8-9f5674c6feb5",
    "tags": [],
    "is_collapsed": false,
    "deepnote_cell_type": "text-cell-h1"
   }
  },
  {
   "cell_type": "markdown",
   "source": "Comic Mischief Detection Task\n\nFiles:\n\n1. \"train.csv\" : \n-- Contains multiclass classification content annotations for each video scene used in the training set.\n-- Annotations are on a scene level and do not correspond to a specific modality\n-- a \".csv\" file containing video URLs as well as the IDs of the scenes used in the training set.\n-- Videos are available in the form of URLs, collected from the Youtube and the IMDB websites.\n-- Contains metadata about the videos.\n-- Four content categories related to comic mischief are used (Sarcasm, Slapstick Humor, Gory Humor, Mature Humor).\n\n2. \"val.csv\" : \n-- Contains multiclass classification content annotations for each video scene used in the validation set.\n-- You can use this set for performing model hyperparameter tuning before using the test set\n\n\n3. \"test.csv\" : \n-- Contains multiclass classification content annotations for each video scene used in the test set.\n-- You can use this set for evaluating your method",
   "metadata": {
    "cell_id": "4c574a17-beaa-467a-80e8-64c8c9578cbc",
    "tags": [],
    "is_collapsed": false,
    "deepnote_cell_type": "text-cell-p"
   }
  },
  {
   "cell_type": "code",
   "metadata": {
    "cell_id": "d21a90fe-930c-4dca-a6aa-1f03781c5758",
    "tags": [],
    "deepnote_to_be_reexecuted": false,
    "source_hash": "2900f973",
    "execution_start": 1644811796967,
    "execution_millis": 38273,
    "deepnote_cell_type": "code"
   },
   "source": "!apt update && apt install ffmpeg libsm6 libxext6  -y",
   "execution_count": null,
   "outputs": [
    {
     "name": "stdout",
     "text": "Get:1 http://archive.ubuntu.com/ubuntu focal InRelease [265 kB]\nGet:2 http://security.ubuntu.com/ubuntu focal-security InRelease [114 kB]\nIgn:3 https://developer.download.nvidia.com/compute/cuda/repos/ubuntu2004/x86_64  InRelease\nIgn:4 https://developer.download.nvidia.com/compute/machine-learning/repos/ubuntu2004/x86_64  InRelease\nGet:5 https://developer.download.nvidia.com/compute/cuda/repos/ubuntu2004/x86_64  Release [696 B]\nGet:6 https://developer.download.nvidia.com/compute/machine-learning/repos/ubuntu2004/x86_64  Release [564 B]\nGet:7 https://developer.download.nvidia.com/compute/cuda/repos/ubuntu2004/x86_64  Release.gpg [836 B]\nGet:8 https://developer.download.nvidia.com/compute/machine-learning/repos/ubuntu2004/x86_64  Release.gpg [833 B]\nGet:9 http://security.ubuntu.com/ubuntu focal-security/main amd64 Packages [1546 kB]\nGet:10 http://archive.ubuntu.com/ubuntu focal-updates InRelease [114 kB]\nGet:11 https://developer.download.nvidia.com/compute/cuda/repos/ubuntu2004/x86_64  Packages [599 kB]\nGet:12 http://archive.ubuntu.com/ubuntu focal-backports InRelease [108 kB]\nGet:13 https://developer.download.nvidia.com/compute/machine-learning/repos/ubuntu2004/x86_64  Packages [2445 B]\nGet:14 http://archive.ubuntu.com/ubuntu focal/multiverse amd64 Packages [177 kB]\nGet:15 http://security.ubuntu.com/ubuntu focal-security/restricted amd64 Packages [961 kB]\nGet:16 http://security.ubuntu.com/ubuntu focal-security/universe amd64 Packages [839 kB]\nGet:17 http://security.ubuntu.com/ubuntu focal-security/multiverse amd64 Packages [25.8 kB]\nGet:18 http://archive.ubuntu.com/ubuntu focal/restricted amd64 Packages [33.4 kB]\nGet:19 http://archive.ubuntu.com/ubuntu focal/main amd64 Packages [1275 kB]\nGet:20 http://archive.ubuntu.com/ubuntu focal/universe amd64 Packages [11.3 MB]\nGet:21 http://archive.ubuntu.com/ubuntu focal-updates/restricted amd64 Packages [1030 kB]\nGet:22 http://archive.ubuntu.com/ubuntu focal-updates/universe amd64 Packages [1132 kB]\nGet:23 http://archive.ubuntu.com/ubuntu focal-updates/multiverse amd64 Packages [29.4 kB]\nGet:24 http://archive.ubuntu.com/ubuntu focal-updates/main amd64 Packages [1973 kB]\nGet:25 http://archive.ubuntu.com/ubuntu focal-backports/main amd64 Packages [50.8 kB]\nGet:26 http://archive.ubuntu.com/ubuntu focal-backports/universe amd64 Packages [24.8 kB]\nFetched 21.6 MB in 3s (7239 kB/s)\n\n\n\n44 packages can be upgraded. Run 'apt list --upgradable' to see them.\n\n\n\nThe following additional packages will be installed:\n  alsa-topology-conf alsa-ucm-conf fontconfig fontconfig-config\n  fonts-dejavu-core i965-va-driver intel-media-va-driver libaacs0 libaom0\n  libasound2 libasound2-data libass9 libasyncns0 libavc1394-0 libavcodec58\n  libavdevice58 libavfilter7 libavformat58 libavresample4 libavutil56\n  libbdplus0 libbluray2 libbs2b0 libbsd0 libcaca0 libcairo-gobject2 libcairo2\n  libcdio-cdda2 libcdio-paranoia2 libcdio18 libchromaprint1 libcodec2-0.9\n  libdatrie1 libdc1394-22 libdrm-amdgpu1 libdrm-common libdrm-intel1\n  libdrm-nouveau2 libdrm-radeon1 libdrm2 libedit2 libfftw3-double3 libflac8\n  libflite1 libfontconfig1 libfribidi0 libgdk-pixbuf2.0-0 libgdk-pixbuf2.0-bin\n  libgdk-pixbuf2.0-common libgl1 libgl1-mesa-dri libglapi-mesa libglvnd0\n  libglx-mesa0 libglx0 libgme0 libgraphite2-3 libgsm1 libharfbuzz0b libice6\n  libiec61883-0 libigdgmm11 libjack-jackd2-0 libjbig0 liblilv-0-0 libllvm12\n  libmp3lame0 libmpg123-0 libmysofa1 libnuma1 libogg0 libopenal-data\n  libopenal1 libopenjp2-7 libopenmpt0 libopus0 libpango-1.0-0\n  libpangocairo-1.0-0 libpangoft2-1.0-0 libpciaccess0 libpixman-1-0\n  libpostproc55 libpulse0 libraw1394-11 librsvg2-2 librsvg2-common\n  librubberband2 libsamplerate0 libsdl2-2.0-0 libsensors-config libsensors5\n  libserd-0-0 libshine3 libslang2 libsnappy1v5 libsndfile1 libsndio7.0\n  libsord-0-0 libsoxr0 libspeex1 libsratom-0-0 libssh-gcrypt-4 libswresample3\n  libswscale5 libthai-data libthai0 libtheora0 libtiff5 libtwolame0\n  libusb-1.0-0 libva-drm2 libva-x11-2 libva2 libvdpau1 libvidstab1.1\n  libvorbis0a libvorbisenc2 libvorbisfile3 libvpx6 libvulkan1 libwavpack1\n  libwayland-client0 libwayland-cursor0 libwayland-egl1 libwebp6 libwebpmux3\n  libwrap0 libx11-6 libx11-data libx11-xcb1 libx264-155 libx265-179 libxau6\n  libxcb-dri2-0 libxcb-dri3-0 libxcb-glx0 libxcb-present0 libxcb-randr0\n  libxcb-render0 libxcb-shape0 libxcb-shm0 libxcb-sync1 libxcb-xfixes0 libxcb1\n  libxcursor1 libxdmcp6 libxfixes3 libxi6 libxinerama1 libxkbcommon0\n  libxrandr2 libxrender1 libxshmfence1 libxss1 libxv1 libxvidcore4 libxxf86vm1\n  libzvbi-common libzvbi0 mesa-va-drivers mesa-vdpau-drivers\n  mesa-vulkan-drivers ocl-icd-libopencl1 shared-mime-info ucf va-driver-all\n  vdpau-driver-all x11-common xkb-data\nSuggested packages:\n  ffmpeg-doc i965-va-driver-shaders libasound2-plugins alsa-utils\n  libbluray-bdj libfftw3-bin libfftw3-dev jackd2 libportaudio2 opus-tools\n  pciutils pulseaudio libraw1394-doc librsvg2-bin lm-sensors serdi sndiod\n  sordi speex opencl-icd libvdpau-va-gl1 nvidia-vdpau-driver\n  nvidia-legacy-340xx-vdpau-driver nvidia-legacy-304xx-vdpau-driver\nThe following NEW packages will be installed:\n  alsa-topology-conf alsa-ucm-conf ffmpeg fontconfig fontconfig-config\n  fonts-dejavu-core i965-va-driver intel-media-va-driver libaacs0 libaom0\n  libasound2 libasound2-data libass9 libasyncns0 libavc1394-0 libavcodec58\n  libavdevice58 libavfilter7 libavformat58 libavresample4 libavutil56\n  libbdplus0 libbluray2 libbs2b0 libbsd0 libcaca0 libcairo-gobject2 libcairo2\n  libcdio-cdda2 libcdio-paranoia2 libcdio18 libchromaprint1 libcodec2-0.9\n  libdatrie1 libdc1394-22 libdrm-amdgpu1 libdrm-common libdrm-intel1\n  libdrm-nouveau2 libdrm-radeon1 libdrm2 libedit2 libfftw3-double3 libflac8\n  libflite1 libfontconfig1 libfribidi0 libgdk-pixbuf2.0-0 libgdk-pixbuf2.0-bin\n  libgdk-pixbuf2.0-common libgl1 libgl1-mesa-dri libglapi-mesa libglvnd0\n  libglx-mesa0 libglx0 libgme0 libgraphite2-3 libgsm1 libharfbuzz0b libice6\n  libiec61883-0 libigdgmm11 libjack-jackd2-0 libjbig0 liblilv-0-0 libllvm12\n  libmp3lame0 libmpg123-0 libmysofa1 libnuma1 libogg0 libopenal-data\n  libopenal1 libopenjp2-7 libopenmpt0 libopus0 libpango-1.0-0\n  libpangocairo-1.0-0 libpangoft2-1.0-0 libpciaccess0 libpixman-1-0\n  libpostproc55 libpulse0 libraw1394-11 librsvg2-2 librsvg2-common\n  librubberband2 libsamplerate0 libsdl2-2.0-0 libsensors-config libsensors5\n  libserd-0-0 libshine3 libslang2 libsm6 libsnappy1v5 libsndfile1 libsndio7.0\n  libsord-0-0 libsoxr0 libspeex1 libsratom-0-0 libssh-gcrypt-4 libswresample3\n  libswscale5 libthai-data libthai0 libtheora0 libtiff5 libtwolame0\n  libusb-1.0-0 libva-drm2 libva-x11-2 libva2 libvdpau1 libvidstab1.1\n  libvorbis0a libvorbisenc2 libvorbisfile3 libvpx6 libvulkan1 libwavpack1\n  libwayland-client0 libwayland-cursor0 libwayland-egl1 libwebp6 libwebpmux3\n  libwrap0 libx11-6 libx11-data libx11-xcb1 libx264-155 libx265-179 libxau6\n  libxcb-dri2-0 libxcb-dri3-0 libxcb-glx0 libxcb-present0 libxcb-randr0\n  libxcb-render0 libxcb-shape0 libxcb-shm0 libxcb-sync1 libxcb-xfixes0 libxcb1\n  libxcursor1 libxdmcp6 libxext6 libxfixes3 libxi6 libxinerama1 libxkbcommon0\n  libxrandr2 libxrender1 libxshmfence1 libxss1 libxv1 libxvidcore4 libxxf86vm1\n  libzvbi-common libzvbi0 mesa-va-drivers mesa-vdpau-drivers\n  mesa-vulkan-drivers ocl-icd-libopencl1 shared-mime-info ucf va-driver-all\n  vdpau-driver-all x11-common xkb-data\n0 upgraded, 172 newly installed, 0 to remove and 44 not upgraded.\nNeed to get 94.9 MB of archives.\nAfter this operation, 781 MB of additional disk space will be used.\nGet:1 http://archive.ubuntu.com/ubuntu focal/main amd64 libbsd0 amd64 0.10.0-1 [45.4 kB]\nGet:2 http://archive.ubuntu.com/ubuntu focal/main amd64 libfribidi0 amd64 1.0.8-2 [23.8 kB]\nGet:3 http://archive.ubuntu.com/ubuntu focal/main amd64 libslang2 amd64 2.3.2-4 [429 kB]\nGet:4 http://archive.ubuntu.com/ubuntu focal/main amd64 shared-mime-info amd64 1.15-1 [430 kB]\nGet:5 http://archive.ubuntu.com/ubuntu focal/main amd64 ucf all 3.0038+nmu1 [51.6 kB]\nGet:6 http://archive.ubuntu.com/ubuntu focal/main amd64 xkb-data all 2.29-2 [349 kB]\nGet:7 http://archive.ubuntu.com/ubuntu focal-updates/main amd64 libdrm-common all 2.4.107-8ubuntu1~20.04.1 [5408 B]\nGet:8 http://archive.ubuntu.com/ubuntu focal-updates/main amd64 libdrm2 amd64 2.4.107-8ubuntu1~20.04.1 [34.1 kB]\nGet:9 http://archive.ubuntu.com/ubuntu focal/main amd64 libedit2 amd64 3.1-20191231-1 [87.0 kB]\nGet:10 http://archive.ubuntu.com/ubuntu focal/main amd64 libnuma1 amd64 2.0.12-1 [20.8 kB]\nGet:11 http://archive.ubuntu.com/ubuntu focal/main amd64 libusb-1.0-0 amd64 2:1.0.23-2build1 [46.5 kB]\nGet:12 http://archive.ubuntu.com/ubuntu focal/main amd64 libxau6 amd64 1:1.0.9-0ubuntu1 [7488 B]\nGet:13 http://archive.ubuntu.com/ubuntu focal/main amd64 libxdmcp6 amd64 1:1.1.3-0ubuntu1 [10.6 kB]\nGet:14 http://archive.ubuntu.com/ubuntu focal/main amd64 libxcb1 amd64 1.14-2 [44.7 kB]\nGet:15 http://archive.ubuntu.com/ubuntu focal-updates/main amd64 libx11-data all 2:1.6.9-2ubuntu1.2 [113 kB]\nGet:16 http://archive.ubuntu.com/ubuntu focal-updates/main amd64 libx11-6 amd64 2:1.6.9-2ubuntu1.2 [575 kB]\nGet:17 http://archive.ubuntu.com/ubuntu focal/main amd64 libxext6 amd64 2:1.3.4-0ubuntu1 [29.1 kB]\nGet:18 http://archive.ubuntu.com/ubuntu focal/main amd64 alsa-topology-conf all 1.2.2-1 [7364 B]\nGet:19 http://archive.ubuntu.com/ubuntu focal-updates/main amd64 alsa-ucm-conf all 1.2.2-1ubuntu0.11 [26.9 kB]\nGet:20 http://archive.ubuntu.com/ubuntu focal/universe amd64 libaom0 amd64 1.0.0.errata1-3build1 [1160 kB]\nGet:21 http://archive.ubuntu.com/ubuntu focal/universe amd64 libva2 amd64 2.7.0-2 [53.5 kB]\nGet:22 http://archive.ubuntu.com/ubuntu focal/universe amd64 libva-drm2 amd64 2.7.0-2 [7044 B]\nGet:23 http://archive.ubuntu.com/ubuntu focal/main amd64 libxfixes3 amd64 1:5.0.3-2 [10.9 kB]\nGet:24 http://archive.ubuntu.com/ubuntu focal/universe amd64 libva-x11-2 amd64 2.7.0-2 [11.9 kB]\nGet:25 http://archive.ubuntu.com/ubuntu focal/main amd64 libvdpau1 amd64 1.3-1ubuntu2 [25.6 kB]\nGet:26 http://archive.ubuntu.com/ubuntu focal/main amd64 ocl-icd-libopencl1 amd64 2.2.11-1ubuntu1 [30.3 kB]\nGet:27 http://archive.ubuntu.com/ubuntu focal-updates/universe amd64 libavutil56 amd64 7:4.2.4-1ubuntu0.1 [241 kB]\nGet:28 http://archive.ubuntu.com/ubuntu focal/main amd64 fonts-dejavu-core all 2.37-1 [1041 kB]\nGet:29 http://archive.ubuntu.com/ubuntu focal/main amd64 fontconfig-config all 2.13.1-2ubuntu3 [28.8 kB]\nGet:30 http://archive.ubuntu.com/ubuntu focal/main amd64 libfontconfig1 amd64 2.13.1-2ubuntu3 [114 kB]\nGet:31 http://archive.ubuntu.com/ubuntu focal/main amd64 libpixman-1-0 amd64 0.38.4-0ubuntu1 [227 kB]\nGet:32 http://archive.ubuntu.com/ubuntu focal/main amd64 libxcb-render0 amd64 1.14-2 [14.8 kB]\nGet:33 http://archive.ubuntu.com/ubuntu focal/main amd64 libxcb-shm0 amd64 1.14-2 [5584 B]\nGet:34 http://archive.ubuntu.com/ubuntu focal/main amd64 libxrender1 amd64 1:0.9.10-1 [18.7 kB]\nGet:35 http://archive.ubuntu.com/ubuntu focal/main amd64 libcairo2 amd64 1.16.0-4ubuntu1 [583 kB]\nGet:36 http://archive.ubuntu.com/ubuntu focal/universe amd64 libcodec2-0.9 amd64 0.9.2-2 [7886 kB]\nGet:37 http://archive.ubuntu.com/ubuntu focal/universe amd64 libgsm1 amd64 1.0.18-2 [24.4 kB]\nGet:38 http://archive.ubuntu.com/ubuntu focal/main amd64 libmp3lame0 amd64 3.100-3 [133 kB]\nGet:39 http://archive.ubuntu.com/ubuntu focal-updates/main amd64 libopenjp2-7 amd64 2.3.1-1ubuntu4.20.04.1 [141 kB]\nGet:40 http://archive.ubuntu.com/ubuntu focal/main amd64 libopus0 amd64 1.3.1-0ubuntu1 [191 kB]\nGet:41 http://archive.ubuntu.com/ubuntu focal/main amd64 libcairo-gobject2 amd64 1.16.0-4ubuntu1 [17.2 kB]\nGet:42 http://archive.ubuntu.com/ubuntu focal/main amd64 libjbig0 amd64 2.1-3.1build1 [26.7 kB]\nGet:43 http://archive.ubuntu.com/ubuntu focal-updates/main amd64 libwebp6 amd64 0.6.1-2ubuntu0.20.04.1 [185 kB]\nGet:44 http://archive.ubuntu.com/ubuntu focal-updates/main amd64 libtiff5 amd64 4.1.0+git191117-2ubuntu0.20.04.2 [162 kB]\nGet:45 http://archive.ubuntu.com/ubuntu focal-updates/main amd64 libgdk-pixbuf2.0-common all 2.40.0+dfsg-3ubuntu0.2 [4652 B]\nGet:46 http://archive.ubuntu.com/ubuntu focal-updates/main amd64 libgdk-pixbuf2.0-0 amd64 2.40.0+dfsg-3ubuntu0.2 [168 kB]\nGet:47 http://archive.ubuntu.com/ubuntu focal/main amd64 fontconfig amd64 2.13.1-2ubuntu3 [171 kB]\nGet:48 http://archive.ubuntu.com/ubuntu focal/main amd64 libgraphite2-3 amd64 1.3.13-11build1 [73.5 kB]\nGet:49 http://archive.ubuntu.com/ubuntu focal/main amd64 libharfbuzz0b amd64 2.6.4-1ubuntu4 [391 kB]\nGet:50 http://archive.ubuntu.com/ubuntu focal/main amd64 libthai-data all 0.1.28-3 [134 kB]\nGet:51 http://archive.ubuntu.com/ubuntu focal/main amd64 libdatrie1 amd64 0.2.12-3 [18.7 kB]\nGet:52 http://archive.ubuntu.com/ubuntu focal/main amd64 libthai0 amd64 0.1.28-3 [18.1 kB]\nGet:53 http://archive.ubuntu.com/ubuntu focal/main amd64 libpango-1.0-0 amd64 1.44.7-2ubuntu4 [162 kB]\nGet:54 http://archive.ubuntu.com/ubuntu focal/main amd64 libpangoft2-1.0-0 amd64 1.44.7-2ubuntu4 [34.9 kB]\nGet:55 http://archive.ubuntu.com/ubuntu focal/main amd64 libpangocairo-1.0-0 amd64 1.44.7-2ubuntu4 [24.8 kB]\nGet:56 http://archive.ubuntu.com/ubuntu focal-updates/main amd64 librsvg2-2 amd64 2.48.9-1ubuntu0.20.04.1 [2253 kB]\nGet:57 http://archive.ubuntu.com/ubuntu focal/universe amd64 libshine3 amd64 3.1.1-2 [23.2 kB]\nGet:58 http://archive.ubuntu.com/ubuntu focal/main amd64 libsnappy1v5 amd64 1.1.8-1build1 [16.7 kB]\nGet:59 http://archive.ubuntu.com/ubuntu focal-updates/main amd64 libspeex1 amd64 1.2~rc1.2-1.1ubuntu1.20.04.1 [53.2 kB]\nGet:60 http://archive.ubuntu.com/ubuntu focal/main amd64 libsoxr0 amd64 0.1.3-2build1 [78.0 kB]\nGet:61 http://archive.ubuntu.com/ubuntu focal-updates/universe amd64 libswresample3 amd64 7:4.2.4-1ubuntu0.1 [57.1 kB]\nGet:62 http://archive.ubuntu.com/ubuntu focal/main amd64 libogg0 amd64 1.3.4-0ubuntu1 [24.0 kB]\nGet:63 http://archive.ubuntu.com/ubuntu focal/main amd64 libtheora0 amd64 1.1.1+dfsg.1-15ubuntu2 [162 kB]\nGet:64 http://archive.ubuntu.com/ubuntu focal/main amd64 libtwolame0 amd64 0.4.0-2 [47.6 kB]\nGet:65 http://archive.ubuntu.com/ubuntu focal/main amd64 libvorbis0a amd64 1.3.6-2ubuntu1 [87.0 kB]\nGet:66 http://archive.ubuntu.com/ubuntu focal/main amd64 libvorbisenc2 amd64 1.3.6-2ubuntu1 [70.7 kB]\nGet:67 http://archive.ubuntu.com/ubuntu focal/main amd64 libvpx6 amd64 1.8.2-1build1 [820 kB]\nGet:68 http://archive.ubuntu.com/ubuntu focal-updates/main amd64 libwavpack1 amd64 5.2.0-1ubuntu0.1 [77.3 kB]\nGet:69 http://archive.ubuntu.com/ubuntu focal-updates/main amd64 libwebpmux3 amd64 0.6.1-2ubuntu0.20.04.1 [19.5 kB]\nGet:70 http://archive.ubuntu.com/ubuntu focal/universe amd64 libx264-155 amd64 2:0.155.2917+git0a84d98-2 [521 kB]\nGet:71 http://archive.ubuntu.com/ubuntu focal/universe amd64 libx265-179 amd64 3.2.1-1build1 [1060 kB]\nGet:72 http://archive.ubuntu.com/ubuntu focal/universe amd64 libxvidcore4 amd64 2:1.3.7-1 [201 kB]\nGet:73 http://archive.ubuntu.com/ubuntu focal/universe amd64 libzvbi-common all 0.2.35-17 [32.5 kB]\nGet:74 http://archive.ubuntu.com/ubuntu focal/universe amd64 libzvbi0 amd64 0.2.35-17 [237 kB]\nGet:75 http://archive.ubuntu.com/ubuntu focal-updates/universe amd64 libavcodec58 amd64 7:4.2.4-1ubuntu0.1 [4876 kB]\nGet:76 http://archive.ubuntu.com/ubuntu focal-updates/main amd64 libasound2-data all 1.2.2-2.1ubuntu2.5 [20.1 kB]\nGet:77 http://archive.ubuntu.com/ubuntu focal-updates/main amd64 libasound2 amd64 1.2.2-2.1ubuntu2.5 [335 kB]\nGet:78 http://archive.ubuntu.com/ubuntu focal/main amd64 libraw1394-11 amd64 2.1.2-1 [30.7 kB]\nGet:79 http://archive.ubuntu.com/ubuntu focal/main amd64 libavc1394-0 amd64 0.5.4-5 [16.2 kB]\nGet:80 http://archive.ubuntu.com/ubuntu focal/universe amd64 libass9 amd64 1:0.14.0-2 [88.0 kB]\nGet:81 http://archive.ubuntu.com/ubuntu focal/universe amd64 libbluray2 amd64 1:1.2.0-1 [138 kB]\nGet:82 http://archive.ubuntu.com/ubuntu focal/universe amd64 libchromaprint1 amd64 1.4.3-3build1 [37.6 kB]\nGet:83 http://archive.ubuntu.com/ubuntu focal/universe amd64 libgme0 amd64 0.6.2-1build1 [123 kB]\nGet:84 http://archive.ubuntu.com/ubuntu focal/main amd64 libmpg123-0 amd64 1.25.13-1 [124 kB]\nGet:85 http://archive.ubuntu.com/ubuntu focal/main amd64 libvorbisfile3 amd64 1.3.6-2ubuntu1 [16.1 kB]\nGet:86 http://archive.ubuntu.com/ubuntu focal/universe amd64 libopenmpt0 amd64 0.4.11-1build1 [599 kB]\nGet:87 http://archive.ubuntu.com/ubuntu focal-updates/main amd64 libssh-gcrypt-4 amd64 0.9.3-2ubuntu2.2 [202 kB]\nGet:88 http://archive.ubuntu.com/ubuntu focal-updates/universe amd64 libavformat58 amd64 7:4.2.4-1ubuntu0.1 [981 kB]\nGet:89 http://archive.ubuntu.com/ubuntu focal/universe amd64 libbs2b0 amd64 3.1.0+dfsg-2.2build1 [10.2 kB]\nGet:90 http://archive.ubuntu.com/ubuntu focal/universe amd64 libflite1 amd64 2.1-release-3 [12.8 MB]\nGet:91 http://archive.ubuntu.com/ubuntu focal/universe amd64 libserd-0-0 amd64 0.30.2-1 [46.6 kB]\nGet:92 http://archive.ubuntu.com/ubuntu focal/universe amd64 libsord-0-0 amd64 0.16.4-1 [19.5 kB]\nGet:93 http://archive.ubuntu.com/ubuntu focal/universe amd64 libsratom-0-0 amd64 0.6.4-1 [16.9 kB]\nGet:94 http://archive.ubuntu.com/ubuntu focal-updates/universe amd64 liblilv-0-0 amd64 0.24.6-1ubuntu0.1 [40.6 kB]\nGet:95 http://archive.ubuntu.com/ubuntu focal/universe amd64 libmysofa1 amd64 1.0~dfsg0-1 [39.2 kB]\nGet:96 http://archive.ubuntu.com/ubuntu focal-updates/universe amd64 libpostproc55 amd64 7:4.2.4-1ubuntu0.1 [55.3 kB]\nGet:97 http://archive.ubuntu.com/ubuntu focal/main amd64 libfftw3-double3 amd64 3.3.8-2ubuntu1 [728 kB]\nGet:98 http://archive.ubuntu.com/ubuntu focal/main amd64 libsamplerate0 amd64 0.1.9-2 [939 kB]\nGet:99 http://archive.ubuntu.com/ubuntu focal/universe amd64 librubberband2 amd64 1.8.2-1build1 [89.4 kB]\nGet:100 http://archive.ubuntu.com/ubuntu focal-updates/universe amd64 libswscale5 amd64 7:4.2.4-1ubuntu0.1 [156 kB]\nGet:101 http://archive.ubuntu.com/ubuntu focal/universe amd64 libvidstab1.1 amd64 1.1.0-2 [35.0 kB]\nGet:102 http://archive.ubuntu.com/ubuntu focal-updates/universe amd64 libavfilter7 amd64 7:4.2.4-1ubuntu0.1 [1084 kB]\nGet:103 http://archive.ubuntu.com/ubuntu focal-updates/main amd64 libcaca0 amd64 0.99.beta19-2.1ubuntu1.20.04.2 [203 kB]\nGet:104 http://archive.ubuntu.com/ubuntu focal/main amd64 libcdio18 amd64 2.0.0-2 [58.6 kB]\nGet:105 http://archive.ubuntu.com/ubuntu focal/main amd64 libcdio-cdda2 amd64 10.2+2.0.0-1 [17.6 kB]\nGet:106 http://archive.ubuntu.com/ubuntu focal/main amd64 libcdio-paranoia2 amd64 10.2+2.0.0-1 [16.2 kB]\nGet:107 http://archive.ubuntu.com/ubuntu focal/universe amd64 libdc1394-22 amd64 2.2.5-2.1 [79.6 kB]\nGet:108 http://archive.ubuntu.com/ubuntu focal-updates/main amd64 libglvnd0 amd64 1.3.2-1~ubuntu0.20.04.1 [51.4 kB]\nGet:109 http://archive.ubuntu.com/ubuntu focal-updates/main amd64 libglapi-mesa amd64 21.2.6-0ubuntu0.1~20.04.1 [27.3 kB]\nGet:110 http://archive.ubuntu.com/ubuntu focal-updates/main amd64 libx11-xcb1 amd64 2:1.6.9-2ubuntu1.2 [9372 B]\nGet:111 http://archive.ubuntu.com/ubuntu focal/main amd64 libxcb-dri2-0 amd64 1.14-2 [6920 B]\nGet:112 http://archive.ubuntu.com/ubuntu focal/main amd64 libxcb-dri3-0 amd64 1.14-2 [6552 B]\nGet:113 http://archive.ubuntu.com/ubuntu focal/main amd64 libxcb-glx0 amd64 1.14-2 [22.1 kB]\nGet:114 http://archive.ubuntu.com/ubuntu focal/main amd64 libxcb-present0 amd64 1.14-2 [5560 B]\nGet:115 http://archive.ubuntu.com/ubuntu focal/main amd64 libxcb-sync1 amd64 1.14-2 [8884 B]\nGet:116 http://archive.ubuntu.com/ubuntu focal/main amd64 libxcb-xfixes0 amd64 1.14-2 [9296 B]\nGet:117 http://archive.ubuntu.com/ubuntu focal/main amd64 libxshmfence1 amd64 1.3-1 [5028 B]\nGet:118 http://archive.ubuntu.com/ubuntu focal/main amd64 libxxf86vm1 amd64 1:1.1.4-1build1 [10.2 kB]\nGet:119 http://archive.ubuntu.com/ubuntu focal-updates/main amd64 libdrm-amdgpu1 amd64 2.4.107-8ubuntu1~20.04.1 [18.4 kB]\nGet:120 http://archive.ubuntu.com/ubuntu focal/main amd64 libpciaccess0 amd64 0.16-0ubuntu1 [17.9 kB]\nGet:121 http://archive.ubuntu.com/ubuntu focal-updates/main amd64 libdrm-intel1 amd64 2.4.107-8ubuntu1~20.04.1 [60.3 kB]\nGet:122 http://archive.ubuntu.com/ubuntu focal-updates/main amd64 libdrm-nouveau2 amd64 2.4.107-8ubuntu1~20.04.1 [16.6 kB]\nGet:123 http://archive.ubuntu.com/ubuntu focal-updates/main amd64 libdrm-radeon1 amd64 2.4.107-8ubuntu1~20.04.1 [19.7 kB]\nGet:124 http://archive.ubuntu.com/ubuntu focal-updates/main amd64 libllvm12 amd64 1:12.0.0-3ubuntu1~20.04.4 [18.8 MB]\nGet:125 http://archive.ubuntu.com/ubuntu focal/main amd64 libsensors-config all 1:3.6.0-2ubuntu1 [6092 B]\nGet:126 http://archive.ubuntu.com/ubuntu focal/main amd64 libsensors5 amd64 1:3.6.0-2ubuntu1 [27.4 kB]\nGet:127 http://archive.ubuntu.com/ubuntu focal/main amd64 libvulkan1 amd64 1.2.131.2-1 [93.3 kB]\nGet:128 http://archive.ubuntu.com/ubuntu focal-updates/main amd64 libgl1-mesa-dri amd64 21.2.6-0ubuntu0.1~20.04.1 [11.0 MB]\nGet:129 http://archive.ubuntu.com/ubuntu focal-updates/main amd64 libglx-mesa0 amd64 21.2.6-0ubuntu0.1~20.04.1 [137 kB]\nGet:130 http://archive.ubuntu.com/ubuntu focal-updates/main amd64 libglx0 amd64 1.3.2-1~ubuntu0.20.04.1 [32.6 kB]\nGet:131 http://archive.ubuntu.com/ubuntu focal-updates/main amd64 libgl1 amd64 1.3.2-1~ubuntu0.20.04.1 [86.9 kB]\nGet:132 http://archive.ubuntu.com/ubuntu focal/main amd64 libiec61883-0 amd64 1.2.0-3 [24.3 kB]\nGet:133 http://archive.ubuntu.com/ubuntu focal/main amd64 libjack-jackd2-0 amd64 1.9.12~dfsg-2ubuntu2 [267 kB]\nGet:134 http://archive.ubuntu.com/ubuntu focal/universe amd64 libopenal-data all 1:1.19.1-1 [162 kB]\nGet:135 http://archive.ubuntu.com/ubuntu focal/universe amd64 libsndio7.0 amd64 1.5.0-3 [24.5 kB]\nGet:136 http://archive.ubuntu.com/ubuntu focal/universe amd64 libopenal1 amd64 1:1.19.1-1 [492 kB]\nGet:137 http://archive.ubuntu.com/ubuntu focal/main amd64 libasyncns0 amd64 0.8-6 [12.1 kB]\nGet:138 http://archive.ubuntu.com/ubuntu focal/main amd64 libflac8 amd64 1.3.3-1build1 [103 kB]\nGet:139 http://archive.ubuntu.com/ubuntu focal-updates/main amd64 libsndfile1 amd64 1.0.28-7ubuntu0.1 [170 kB]\nGet:140 http://archive.ubuntu.com/ubuntu focal/main amd64 libwrap0 amd64 7.6.q-30 [46.3 kB]\nGet:141 http://archive.ubuntu.com/ubuntu focal-updates/main amd64 libpulse0 amd64 1:13.99.1-1ubuntu3.13 [262 kB]\nGet:142 http://archive.ubuntu.com/ubuntu focal/main amd64 libwayland-client0 amd64 1.18.0-1 [23.9 kB]\nGet:143 http://archive.ubuntu.com/ubuntu focal/main amd64 libwayland-cursor0 amd64 1.18.0-1 [10.3 kB]\nGet:144 http://archive.ubuntu.com/ubuntu focal/main amd64 libwayland-egl1 amd64 1.18.0-1 [5692 B]\nGet:145 http://archive.ubuntu.com/ubuntu focal/main amd64 libxcursor1 amd64 1:1.2.0-2 [20.1 kB]\nGet:146 http://archive.ubuntu.com/ubuntu focal/main amd64 libxi6 amd64 2:1.7.10-0ubuntu1 [29.9 kB]\nGet:147 http://archive.ubuntu.com/ubuntu focal/main amd64 libxinerama1 amd64 2:1.1.4-2 [6904 B]\nGet:148 http://archive.ubuntu.com/ubuntu focal/main amd64 libxkbcommon0 amd64 0.10.0-1 [98.4 kB]\nGet:149 http://archive.ubuntu.com/ubuntu focal/main amd64 libxrandr2 amd64 2:1.5.2-0ubuntu1 [18.5 kB]\nGet:150 http://archive.ubuntu.com/ubuntu focal/main amd64 x11-common all 1:7.7+19ubuntu14 [22.3 kB]\nGet:151 http://archive.ubuntu.com/ubuntu focal/main amd64 libxss1 amd64 1:1.2.3-1 [8140 B]\nGet:152 http://archive.ubuntu.com/ubuntu focal/universe amd64 libsdl2-2.0-0 amd64 2.0.10+dfsg1-3 [407 kB]\nGet:153 http://archive.ubuntu.com/ubuntu focal/main amd64 libxcb-shape0 amd64 1.14-2 [5928 B]\nGet:154 http://archive.ubuntu.com/ubuntu focal/main amd64 libxv1 amd64 2:1.0.11-1 [10.7 kB]\nGet:155 http://archive.ubuntu.com/ubuntu focal-updates/universe amd64 libavdevice58 amd64 7:4.2.4-1ubuntu0.1 [74.3 kB]\nGet:156 http://archive.ubuntu.com/ubuntu focal-updates/universe amd64 libavresample4 amd64 7:4.2.4-1ubuntu0.1 [54.2 kB]\nGet:157 http://archive.ubuntu.com/ubuntu focal-updates/universe amd64 ffmpeg amd64 7:4.2.4-1ubuntu0.1 [1453 kB]\nGet:158 http://archive.ubuntu.com/ubuntu focal/universe amd64 libigdgmm11 amd64 20.1.1+ds1-1 [111 kB]\nGet:159 http://archive.ubuntu.com/ubuntu focal/universe amd64 intel-media-va-driver amd64 20.1.1+dfsg1-1 [1764 kB]\nGet:160 http://archive.ubuntu.com/ubuntu focal/universe amd64 libaacs0 amd64 0.9.0-2 [50.1 kB]\nGet:161 http://archive.ubuntu.com/ubuntu focal/universe amd64 libbdplus0 amd64 0.1.2-3 [47.3 kB]\nGet:162 http://archive.ubuntu.com/ubuntu focal-updates/main amd64 libgdk-pixbuf2.0-bin amd64 2.40.0+dfsg-3ubuntu0.2 [14.1 kB]\nGet:163 http://archive.ubuntu.com/ubuntu focal/main amd64 libice6 amd64 2:1.0.10-0ubuntu1 [41.0 kB]\nGet:164 http://archive.ubuntu.com/ubuntu focal-updates/main amd64 librsvg2-common amd64 2.48.9-1ubuntu0.20.04.1 [9212 B]\nGet:165 http://archive.ubuntu.com/ubuntu focal/main amd64 libsm6 amd64 2:1.2.3-1 [16.1 kB]\nGet:166 http://archive.ubuntu.com/ubuntu focal/main amd64 libxcb-randr0 amd64 1.14-2 [16.3 kB]\nGet:167 http://archive.ubuntu.com/ubuntu focal-updates/universe amd64 mesa-va-drivers amd64 21.2.6-0ubuntu0.1~20.04.1 [2968 kB]\nGet:168 http://archive.ubuntu.com/ubuntu focal-updates/main amd64 mesa-vdpau-drivers amd64 21.2.6-0ubuntu0.1~20.04.1 [3089 kB]\nGet:169 http://archive.ubuntu.com/ubuntu focal-updates/main amd64 mesa-vulkan-drivers amd64 21.2.6-0ubuntu0.1~20.04.1 [5784 kB]\nGet:170 http://archive.ubuntu.com/ubuntu focal/universe amd64 i965-va-driver amd64 2.4.0-0ubuntu1 [924 kB]\nGet:171 http://archive.ubuntu.com/ubuntu focal/universe amd64 va-driver-all amd64 2.7.0-2 [4020 B]\nGet:172 http://archive.ubuntu.com/ubuntu focal/main amd64 vdpau-driver-all amd64 1.3-1ubuntu2 [4596 B]\nFetched 94.9 MB in 7s (13.4 MB/s)\ndebconf: delaying package configuration, since apt-utils is not installed\n\n\u001b7\u001b[0;23r\u001b8\u001b[1ASelecting previously unselected package libbsd0:amd64.\n(Reading database ... 20688 files and directories currently installed.)\nPreparing to unpack .../000-libbsd0_0.10.0-1_amd64.deb ...\n\u001b7\u001b[24;0f\u001b[42m\u001b[30mProgress: [  0%]\u001b[49m\u001b[39m [..........................................................] \u001b8Unpacking libbsd0:amd64 (0.10.0-1) ...\nSelecting previously unselected package libfribidi0:amd64.\nPreparing to unpack .../001-libfribidi0_1.0.8-2_amd64.deb ...\nUnpacking libfribidi0:amd64 (1.0.8-2) ...\nSelecting previously unselected package libslang2:amd64.\nPreparing to unpack .../002-libslang2_2.3.2-4_amd64.deb ...\nUnpacking libslang2:amd64 (2.3.2-4) ...\nSelecting previously unselected package shared-mime-info.\nPreparing to unpack .../003-shared-mime-info_1.15-1_amd64.deb ...\n\u001b7\u001b[24;0f\u001b[42m\u001b[30mProgress: [  1%]\u001b[49m\u001b[39m [..........................................................] \u001b8Unpacking shared-mime-info (1.15-1) ...\nSelecting previously unselected package ucf.\nPreparing to unpack .../004-ucf_3.0038+nmu1_all.deb ...\nMoving old data out of the way\nUnpacking ucf (3.0038+nmu1) ...\nSelecting previously unselected package xkb-data.\nPreparing to unpack .../005-xkb-data_2.29-2_all.deb ...\nUnpacking xkb-data (2.29-2) ...\nSelecting previously unselected package libdrm-common.\nPreparing to unpack .../006-libdrm-common_2.4.107-8ubuntu1~20.04.1_all.deb ...\nUnpacking libdrm-common (2.4.107-8ubuntu1~20.04.1) ...\n\u001b7\u001b[24;0f\u001b[42m\u001b[30mProgress: [  2%]\u001b[49m\u001b[39m [#.........................................................] \u001b8Selecting previously unselected package libdrm2:amd64.\nPreparing to unpack .../007-libdrm2_2.4.107-8ubuntu1~20.04.1_amd64.deb ...\nUnpacking libdrm2:amd64 (2.4.107-8ubuntu1~20.04.1) ...\nSelecting previously unselected package libedit2:amd64.\nPreparing to unpack .../008-libedit2_3.1-20191231-1_amd64.deb ...\nUnpacking libedit2:amd64 (3.1-20191231-1) ...\nSelecting previously unselected package libnuma1:amd64.\nPreparing to unpack .../009-libnuma1_2.0.12-1_amd64.deb ...\nUnpacking libnuma1:amd64 (2.0.12-1) ...\nSelecting previously unselected package libusb-1.0-0:amd64.\nPreparing to unpack .../010-libusb-1.0-0_2%3a1.0.23-2build1_amd64.deb ...\n\u001b7\u001b[24;0f\u001b[42m\u001b[30mProgress: [  3%]\u001b[49m\u001b[39m [#.........................................................] \u001b8Unpacking libusb-1.0-0:amd64 (2:1.0.23-2build1) ...\nSelecting previously unselected package libxau6:amd64.\nPreparing to unpack .../011-libxau6_1%3a1.0.9-0ubuntu1_amd64.deb ...\nUnpacking libxau6:amd64 (1:1.0.9-0ubuntu1) ...\nSelecting previously unselected package libxdmcp6:amd64.\nPreparing to unpack .../012-libxdmcp6_1%3a1.1.3-0ubuntu1_amd64.deb ...\nUnpacking libxdmcp6:amd64 (1:1.1.3-0ubuntu1) ...\nSelecting previously unselected package libxcb1:amd64.\nPreparing to unpack .../013-libxcb1_1.14-2_amd64.deb ...\nUnpacking libxcb1:amd64 (1.14-2) ...\n\u001b7\u001b[24;0f\u001b[42m\u001b[30mProgress: [  4%]\u001b[49m\u001b[39m [##........................................................] \u001b8Selecting previously unselected package libx11-data.\nPreparing to unpack .../014-libx11-data_2%3a1.6.9-2ubuntu1.2_all.deb ...\nUnpacking libx11-data (2:1.6.9-2ubuntu1.2) ...\nSelecting previously unselected package libx11-6:amd64.\nPreparing to unpack .../015-libx11-6_2%3a1.6.9-2ubuntu1.2_amd64.deb ...\nUnpacking libx11-6:amd64 (2:1.6.9-2ubuntu1.2) ...\nSelecting previously unselected package libxext6:amd64.\nPreparing to unpack .../016-libxext6_2%3a1.3.4-0ubuntu1_amd64.deb ...\nUnpacking libxext6:amd64 (2:1.3.4-0ubuntu1) ...\nSelecting previously unselected package alsa-topology-conf.\nPreparing to unpack .../017-alsa-topology-conf_1.2.2-1_all.deb ...\n\u001b7\u001b[24;0f\u001b[42m\u001b[30mProgress: [  5%]\u001b[49m\u001b[39m [##........................................................] \u001b8Unpacking alsa-topology-conf (1.2.2-1) ...\nSelecting previously unselected package alsa-ucm-conf.\nPreparing to unpack .../018-alsa-ucm-conf_1.2.2-1ubuntu0.11_all.deb ...\nUnpacking alsa-ucm-conf (1.2.2-1ubuntu0.11) ...\nSelecting previously unselected package libaom0:amd64.\nPreparing to unpack .../019-libaom0_1.0.0.errata1-3build1_amd64.deb ...\nUnpacking libaom0:amd64 (1.0.0.errata1-3build1) ...\nSelecting previously unselected package libva2:amd64.\nPreparing to unpack .../020-libva2_2.7.0-2_amd64.deb ...\nUnpacking libva2:amd64 (2.7.0-2) ...\n\u001b7\u001b[24;0f\u001b[42m\u001b[30mProgress: [  6%]\u001b[49m\u001b[39m [###.......................................................] \u001b8Selecting previously unselected package libva-drm2:amd64.\nPreparing to unpack .../021-libva-drm2_2.7.0-2_amd64.deb ...\nUnpacking libva-drm2:amd64 (2.7.0-2) ...\nSelecting previously unselected package libxfixes3:amd64.\nPreparing to unpack .../022-libxfixes3_1%3a5.0.3-2_amd64.deb ...\nUnpacking libxfixes3:amd64 (1:5.0.3-2) ...\nSelecting previously unselected package libva-x11-2:amd64.\nPreparing to unpack .../023-libva-x11-2_2.7.0-2_amd64.deb ...\nUnpacking libva-x11-2:amd64 (2.7.0-2) ...\nSelecting previously unselected package libvdpau1:amd64.\nPreparing to unpack .../024-libvdpau1_1.3-1ubuntu2_amd64.deb ...\n\u001b7\u001b[24;0f\u001b[42m\u001b[30mProgress: [  7%]\u001b[49m\u001b[39m [####......................................................] \u001b8Unpacking libvdpau1:amd64 (1.3-1ubuntu2) ...\nSelecting previously unselected package ocl-icd-libopencl1:amd64.\nPreparing to unpack .../025-ocl-icd-libopencl1_2.2.11-1ubuntu1_amd64.deb ...\nUnpacking ocl-icd-libopencl1:amd64 (2.2.11-1ubuntu1) ...\nSelecting previously unselected package libavutil56:amd64.\nPreparing to unpack .../026-libavutil56_7%3a4.2.4-1ubuntu0.1_amd64.deb ...\nUnpacking libavutil56:amd64 (7:4.2.4-1ubuntu0.1) ...\nSelecting previously unselected package fonts-dejavu-core.\nPreparing to unpack .../027-fonts-dejavu-core_2.37-1_all.deb ...\nUnpacking fonts-dejavu-core (2.37-1) ...\n\u001b7\u001b[24;0f\u001b[42m\u001b[30mProgress: [  8%]\u001b[49m\u001b[39m [####......................................................] \u001b8Selecting previously unselected package fontconfig-config.\nPreparing to unpack .../028-fontconfig-config_2.13.1-2ubuntu3_all.deb ...\nUnpacking fontconfig-config (2.13.1-2ubuntu3) ...\nSelecting previously unselected package libfontconfig1:amd64.\nPreparing to unpack .../029-libfontconfig1_2.13.1-2ubuntu3_amd64.deb ...\nUnpacking libfontconfig1:amd64 (2.13.1-2ubuntu3) ...\nSelecting previously unselected package libpixman-1-0:amd64.\nPreparing to unpack .../030-libpixman-1-0_0.38.4-0ubuntu1_amd64.deb ...\nUnpacking libpixman-1-0:amd64 (0.38.4-0ubuntu1) ...\nSelecting previously unselected package libxcb-render0:amd64.\nPreparing to unpack .../031-libxcb-render0_1.14-2_amd64.deb ...\n\u001b7\u001b[24;0f\u001b[42m\u001b[30mProgress: [  9%]\u001b[49m\u001b[39m [#####.....................................................] \u001b8Unpacking libxcb-render0:amd64 (1.14-2) ...\nSelecting previously unselected package libxcb-shm0:amd64.\nPreparing to unpack .../032-libxcb-shm0_1.14-2_amd64.deb ...\nUnpacking libxcb-shm0:amd64 (1.14-2) ...\nSelecting previously unselected package libxrender1:amd64.\nPreparing to unpack .../033-libxrender1_1%3a0.9.10-1_amd64.deb ...\nUnpacking libxrender1:amd64 (1:0.9.10-1) ...\nSelecting previously unselected package libcairo2:amd64.\nPreparing to unpack .../034-libcairo2_1.16.0-4ubuntu1_amd64.deb ...\n\u001b7\u001b[24;0f\u001b[42m\u001b[30mProgress: [ 10%]\u001b[49m\u001b[39m [#####.....................................................] \u001b8Unpacking libcairo2:amd64 (1.16.0-4ubuntu1) ...\nSelecting previously unselected package libcodec2-0.9:amd64.\nPreparing to unpack .../035-libcodec2-0.9_0.9.2-2_amd64.deb ...\nUnpacking libcodec2-0.9:amd64 (0.9.2-2) ...\nSelecting previously unselected package libgsm1:amd64.\nPreparing to unpack .../036-libgsm1_1.0.18-2_amd64.deb ...\nUnpacking libgsm1:amd64 (1.0.18-2) ...\nSelecting previously unselected package libmp3lame0:amd64.\nPreparing to unpack .../037-libmp3lame0_3.100-3_amd64.deb ...\nUnpacking libmp3lame0:amd64 (3.100-3) ...\n\u001b7\u001b[24;0f\u001b[42m\u001b[30mProgress: [ 11%]\u001b[49m\u001b[39m [######....................................................] \u001b8Selecting previously unselected package libopenjp2-7:amd64.\nPreparing to unpack .../038-libopenjp2-7_2.3.1-1ubuntu4.20.04.1_amd64.deb ...\nUnpacking libopenjp2-7:amd64 (2.3.1-1ubuntu4.20.04.1) ...\nSelecting previously unselected package libopus0:amd64.\nPreparing to unpack .../039-libopus0_1.3.1-0ubuntu1_amd64.deb ...\nUnpacking libopus0:amd64 (1.3.1-0ubuntu1) ...\nSelecting previously unselected package libcairo-gobject2:amd64.\nPreparing to unpack .../040-libcairo-gobject2_1.16.0-4ubuntu1_amd64.deb ...\nUnpacking libcairo-gobject2:amd64 (1.16.0-4ubuntu1) ...\nSelecting previously unselected package libjbig0:amd64.\nPreparing to unpack .../041-libjbig0_2.1-3.1build1_amd64.deb ...\n\u001b7\u001b[24;0f\u001b[42m\u001b[30mProgress: [ 12%]\u001b[49m\u001b[39m [######....................................................] \u001b8Unpacking libjbig0:amd64 (2.1-3.1build1) ...\nSelecting previously unselected package libwebp6:amd64.\nPreparing to unpack .../042-libwebp6_0.6.1-2ubuntu0.20.04.1_amd64.deb ...\nUnpacking libwebp6:amd64 (0.6.1-2ubuntu0.20.04.1) ...\nSelecting previously unselected package libtiff5:amd64.\nPreparing to unpack .../043-libtiff5_4.1.0+git191117-2ubuntu0.20.04.2_amd64.deb ...\nUnpacking libtiff5:amd64 (4.1.0+git191117-2ubuntu0.20.04.2) ...\nSelecting previously unselected package libgdk-pixbuf2.0-common.\nPreparing to unpack .../044-libgdk-pixbuf2.0-common_2.40.0+dfsg-3ubuntu0.2_all.deb ...\nUnpacking libgdk-pixbuf2.0-common (2.40.0+dfsg-3ubuntu0.2) ...\n\u001b7\u001b[24;0f\u001b[42m\u001b[30mProgress: [ 13%]\u001b[49m\u001b[39m [#######...................................................] \u001b8Selecting previously unselected package libgdk-pixbuf2.0-0:amd64.\nPreparing to unpack .../045-libgdk-pixbuf2.0-0_2.40.0+dfsg-3ubuntu0.2_amd64.deb ...\nUnpacking libgdk-pixbuf2.0-0:amd64 (2.40.0+dfsg-3ubuntu0.2) ...\nSelecting previously unselected package fontconfig.\nPreparing to unpack .../046-fontconfig_2.13.1-2ubuntu3_amd64.deb ...\nUnpacking fontconfig (2.13.1-2ubuntu3) ...\nSelecting previously unselected package libgraphite2-3:amd64.\nPreparing to unpack .../047-libgraphite2-3_1.3.13-11build1_amd64.deb ...\nUnpacking libgraphite2-3:amd64 (1.3.13-11build1) ...\nSelecting previously unselected package libharfbuzz0b:amd64.\nPreparing to unpack .../048-libharfbuzz0b_2.6.4-1ubuntu4_amd64.deb ...\n\u001b7\u001b[24;0f\u001b[42m\u001b[30mProgress: [ 14%]\u001b[49m\u001b[39m [########..................................................] \u001b8Unpacking libharfbuzz0b:amd64 (2.6.4-1ubuntu4) ...\nSelecting previously unselected package libthai-data.\nPreparing to unpack .../049-libthai-data_0.1.28-3_all.deb ...\nUnpacking libthai-data (0.1.28-3) ...\nSelecting previously unselected package libdatrie1:amd64.\nPreparing to unpack .../050-libdatrie1_0.2.12-3_amd64.deb ...\nUnpacking libdatrie1:amd64 (0.2.12-3) ...\nSelecting previously unselected package libthai0:amd64.\nPreparing to unpack .../051-libthai0_0.1.28-3_amd64.deb ...\nUnpacking libthai0:amd64 (0.1.28-3) ...\n\u001b7\u001b[24;0f\u001b[42m\u001b[30mProgress: [ 15%]\u001b[49m\u001b[39m [########..................................................] \u001b8Selecting previously unselected package libpango-1.0-0:amd64.\nPreparing to unpack .../052-libpango-1.0-0_1.44.7-2ubuntu4_amd64.deb ...\nUnpacking libpango-1.0-0:amd64 (1.44.7-2ubuntu4) ...\nSelecting previously unselected package libpangoft2-1.0-0:amd64.\nPreparing to unpack .../053-libpangoft2-1.0-0_1.44.7-2ubuntu4_amd64.deb ...\nUnpacking libpangoft2-1.0-0:amd64 (1.44.7-2ubuntu4) ...\nSelecting previously unselected package libpangocairo-1.0-0:amd64.\nPreparing to unpack .../054-libpangocairo-1.0-0_1.44.7-2ubuntu4_amd64.deb ...\nUnpacking libpangocairo-1.0-0:amd64 (1.44.7-2ubuntu4) ...\nSelecting previously unselected package librsvg2-2:amd64.\nPreparing to unpack .../055-librsvg2-2_2.48.9-1ubuntu0.20.04.1_amd64.deb ...\n\u001b7\u001b[24;0f\u001b[42m\u001b[30mProgress: [ 16%]\u001b[49m\u001b[39m [#########.................................................] \u001b8Unpacking librsvg2-2:amd64 (2.48.9-1ubuntu0.20.04.1) ...\nSelecting previously unselected package libshine3:amd64.\nPreparing to unpack .../056-libshine3_3.1.1-2_amd64.deb ...\nUnpacking libshine3:amd64 (3.1.1-2) ...\nSelecting previously unselected package libsnappy1v5:amd64.\nPreparing to unpack .../057-libsnappy1v5_1.1.8-1build1_amd64.deb ...\nUnpacking libsnappy1v5:amd64 (1.1.8-1build1) ...\nSelecting previously unselected package libspeex1:amd64.\nPreparing to unpack .../058-libspeex1_1.2~rc1.2-1.1ubuntu1.20.04.1_amd64.deb ...\nUnpacking libspeex1:amd64 (1.2~rc1.2-1.1ubuntu1.20.04.1) ...\n\u001b7\u001b[24;0f\u001b[42m\u001b[30mProgress: [ 17%]\u001b[49m\u001b[39m [#########.................................................] \u001b8Selecting previously unselected package libsoxr0:amd64.\nPreparing to unpack .../059-libsoxr0_0.1.3-2build1_amd64.deb ...\nUnpacking libsoxr0:amd64 (0.1.3-2build1) ...\nSelecting previously unselected package libswresample3:amd64.\nPreparing to unpack .../060-libswresample3_7%3a4.2.4-1ubuntu0.1_amd64.deb ...\nUnpacking libswresample3:amd64 (7:4.2.4-1ubuntu0.1) ...\nSelecting previously unselected package libogg0:amd64.\nPreparing to unpack .../061-libogg0_1.3.4-0ubuntu1_amd64.deb ...\nUnpacking libogg0:amd64 (1.3.4-0ubuntu1) ...\nSelecting previously unselected package libtheora0:amd64.\nPreparing to unpack .../062-libtheora0_1.1.1+dfsg.1-15ubuntu2_amd64.deb ...\n\u001b7\u001b[24;0f\u001b[42m\u001b[30mProgress: [ 18%]\u001b[49m\u001b[39m [##########................................................] \u001b8Unpacking libtheora0:amd64 (1.1.1+dfsg.1-15ubuntu2) ...\nSelecting previously unselected package libtwolame0:amd64.\nPreparing to unpack .../063-libtwolame0_0.4.0-2_amd64.deb ...\nUnpacking libtwolame0:amd64 (0.4.0-2) ...\nSelecting previously unselected package libvorbis0a:amd64.\nPreparing to unpack .../064-libvorbis0a_1.3.6-2ubuntu1_amd64.deb ...\nUnpacking libvorbis0a:amd64 (1.3.6-2ubuntu1) ...\nSelecting previously unselected package libvorbisenc2:amd64.\nPreparing to unpack .../065-libvorbisenc2_1.3.6-2ubuntu1_amd64.deb ...\n\u001b7\u001b[24;0f\u001b[42m\u001b[30mProgress: [ 19%]\u001b[49m\u001b[39m [###########...............................................] \u001b8Unpacking libvorbisenc2:amd64 (1.3.6-2ubuntu1) ...\nSelecting previously unselected package libvpx6:amd64.\nPreparing to unpack .../066-libvpx6_1.8.2-1build1_amd64.deb ...\nUnpacking libvpx6:amd64 (1.8.2-1build1) ...\nSelecting previously unselected package libwavpack1:amd64.\nPreparing to unpack .../067-libwavpack1_5.2.0-1ubuntu0.1_amd64.deb ...\nUnpacking libwavpack1:amd64 (5.2.0-1ubuntu0.1) ...\nSelecting previously unselected package libwebpmux3:amd64.\nPreparing to unpack .../068-libwebpmux3_0.6.1-2ubuntu0.20.04.1_amd64.deb ...\nUnpacking libwebpmux3:amd64 (0.6.1-2ubuntu0.20.04.1) ...\n\u001b7\u001b[24;0f\u001b[42m\u001b[30mProgress: [ 20%]\u001b[49m\u001b[39m [###########...............................................] \u001b8Selecting previously unselected package libx264-155:amd64.\nPreparing to unpack .../069-libx264-155_2%3a0.155.2917+git0a84d98-2_amd64.deb ...\nUnpacking libx264-155:amd64 (2:0.155.2917+git0a84d98-2) ...\nSelecting previously unselected package libx265-179:amd64.\nPreparing to unpack .../070-libx265-179_3.2.1-1build1_amd64.deb ...\nUnpacking libx265-179:amd64 (3.2.1-1build1) ...\nSelecting previously unselected package libxvidcore4:amd64.\nPreparing to unpack .../071-libxvidcore4_2%3a1.3.7-1_amd64.deb ...\nUnpacking libxvidcore4:amd64 (2:1.3.7-1) ...\nSelecting previously unselected package libzvbi-common.\nPreparing to unpack .../072-libzvbi-common_0.2.35-17_all.deb ...\n\u001b7\u001b[24;0f\u001b[42m\u001b[30mProgress: [ 21%]\u001b[49m\u001b[39m [############..............................................] \u001b8Unpacking libzvbi-common (0.2.35-17) ...\nSelecting previously unselected package libzvbi0:amd64.\nPreparing to unpack .../073-libzvbi0_0.2.35-17_amd64.deb ...\nUnpacking libzvbi0:amd64 (0.2.35-17) ...\nSelecting previously unselected package libavcodec58:amd64.\nPreparing to unpack .../074-libavcodec58_7%3a4.2.4-1ubuntu0.1_amd64.deb ...\nUnpacking libavcodec58:amd64 (7:4.2.4-1ubuntu0.1) ...\nSelecting previously unselected package libasound2-data.\nPreparing to unpack .../075-libasound2-data_1.2.2-2.1ubuntu2.5_all.deb ...\nUnpacking libasound2-data (1.2.2-2.1ubuntu2.5) ...\n\u001b7\u001b[24;0f\u001b[42m\u001b[30mProgress: [ 22%]\u001b[49m\u001b[39m [############..............................................] \u001b8Selecting previously unselected package libasound2:amd64.\nPreparing to unpack .../076-libasound2_1.2.2-2.1ubuntu2.5_amd64.deb ...\nUnpacking libasound2:amd64 (1.2.2-2.1ubuntu2.5) ...\nSelecting previously unselected package libraw1394-11:amd64.\nPreparing to unpack .../077-libraw1394-11_2.1.2-1_amd64.deb ...\nUnpacking libraw1394-11:amd64 (2.1.2-1) ...\nSelecting previously unselected package libavc1394-0:amd64.\nPreparing to unpack .../078-libavc1394-0_0.5.4-5_amd64.deb ...\nUnpacking libavc1394-0:amd64 (0.5.4-5) ...\nSelecting previously unselected package libass9:amd64.\nPreparing to unpack .../079-libass9_1%3a0.14.0-2_amd64.deb ...\n\u001b7\u001b[24;0f\u001b[42m\u001b[30mProgress: [ 23%]\u001b[49m\u001b[39m [#############.............................................] \u001b8Unpacking libass9:amd64 (1:0.14.0-2) ...\nSelecting previously unselected package libbluray2:amd64.\nPreparing to unpack .../080-libbluray2_1%3a1.2.0-1_amd64.deb ...\nUnpacking libbluray2:amd64 (1:1.2.0-1) ...\nSelecting previously unselected package libchromaprint1:amd64.\nPreparing to unpack .../081-libchromaprint1_1.4.3-3build1_amd64.deb ...\nUnpacking libchromaprint1:amd64 (1.4.3-3build1) ...\nSelecting previously unselected package libgme0:amd64.\nPreparing to unpack .../082-libgme0_0.6.2-1build1_amd64.deb ...\nUnpacking libgme0:amd64 (0.6.2-1build1) ...\n\u001b7\u001b[24;0f\u001b[42m\u001b[30mProgress: [ 24%]\u001b[49m\u001b[39m [#############.............................................] \u001b8Selecting previously unselected package libmpg123-0:amd64.\nPreparing to unpack .../083-libmpg123-0_1.25.13-1_amd64.deb ...\nUnpacking libmpg123-0:amd64 (1.25.13-1) ...\nSelecting previously unselected package libvorbisfile3:amd64.\nPreparing to unpack .../084-libvorbisfile3_1.3.6-2ubuntu1_amd64.deb ...\nUnpacking libvorbisfile3:amd64 (1.3.6-2ubuntu1) ...\nSelecting previously unselected package libopenmpt0:amd64.\nPreparing to unpack .../085-libopenmpt0_0.4.11-1build1_amd64.deb ...\nUnpacking libopenmpt0:amd64 (0.4.11-1build1) ...\nSelecting previously unselected package libssh-gcrypt-4:amd64.\nPreparing to unpack .../086-libssh-gcrypt-4_0.9.3-2ubuntu2.2_amd64.deb ...\n\u001b7\u001b[24;0f\u001b[42m\u001b[30mProgress: [ 25%]\u001b[49m\u001b[39m [##############............................................] \u001b8Unpacking libssh-gcrypt-4:amd64 (0.9.3-2ubuntu2.2) ...\nSelecting previously unselected package libavformat58:amd64.\nPreparing to unpack .../087-libavformat58_7%3a4.2.4-1ubuntu0.1_amd64.deb ...\nUnpacking libavformat58:amd64 (7:4.2.4-1ubuntu0.1) ...\nSelecting previously unselected package libbs2b0:amd64.\nPreparing to unpack .../088-libbs2b0_3.1.0+dfsg-2.2build1_amd64.deb ...\nUnpacking libbs2b0:amd64 (3.1.0+dfsg-2.2build1) ...\nSelecting previously unselected package libflite1:amd64.\nPreparing to unpack .../089-libflite1_2.1-release-3_amd64.deb ...\nUnpacking libflite1:amd64 (2.1-release-3) ...\n\u001b7\u001b[24;0f\u001b[42m\u001b[30mProgress: [ 26%]\u001b[49m\u001b[39m [###############...........................................] \u001b8Selecting previously unselected package libserd-0-0:amd64.\nPreparing to unpack .../090-libserd-0-0_0.30.2-1_amd64.deb ...\nUnpacking libserd-0-0:amd64 (0.30.2-1) ...\nSelecting previously unselected package libsord-0-0:amd64.\nPreparing to unpack .../091-libsord-0-0_0.16.4-1_amd64.deb ...\nUnpacking libsord-0-0:amd64 (0.16.4-1) ...\nSelecting previously unselected package libsratom-0-0:amd64.\nPreparing to unpack .../092-libsratom-0-0_0.6.4-1_amd64.deb ...\nUnpacking libsratom-0-0:amd64 (0.6.4-1) ...\nSelecting previously unselected package liblilv-0-0:amd64.\nPreparing to unpack .../093-liblilv-0-0_0.24.6-1ubuntu0.1_amd64.deb ...\n\u001b7\u001b[24;0f\u001b[42m\u001b[30mProgress: [ 27%]\u001b[49m\u001b[39m [###############...........................................] \u001b8Unpacking liblilv-0-0:amd64 (0.24.6-1ubuntu0.1) ...\nSelecting previously unselected package libmysofa1:amd64.\nPreparing to unpack .../094-libmysofa1_1.0~dfsg0-1_amd64.deb ...\nUnpacking libmysofa1:amd64 (1.0~dfsg0-1) ...\nSelecting previously unselected package libpostproc55:amd64.\nPreparing to unpack .../095-libpostproc55_7%3a4.2.4-1ubuntu0.1_amd64.deb ...\nUnpacking libpostproc55:amd64 (7:4.2.4-1ubuntu0.1) ...\nSelecting previously unselected package libfftw3-double3:amd64.\nPreparing to unpack .../096-libfftw3-double3_3.3.8-2ubuntu1_amd64.deb ...\n\u001b7\u001b[24;0f\u001b[42m\u001b[30mProgress: [ 28%]\u001b[49m\u001b[39m [################..........................................] \u001b8Unpacking libfftw3-double3:amd64 (3.3.8-2ubuntu1) ...\nSelecting previously unselected package libsamplerate0:amd64.\nPreparing to unpack .../097-libsamplerate0_0.1.9-2_amd64.deb ...\nUnpacking libsamplerate0:amd64 (0.1.9-2) ...\nSelecting previously unselected package librubberband2:amd64.\nPreparing to unpack .../098-librubberband2_1.8.2-1build1_amd64.deb ...\nUnpacking librubberband2:amd64 (1.8.2-1build1) ...\nSelecting previously unselected package libswscale5:amd64.\nPreparing to unpack .../099-libswscale5_7%3a4.2.4-1ubuntu0.1_amd64.deb ...\nUnpacking libswscale5:amd64 (7:4.2.4-1ubuntu0.1) ...\n\u001b7\u001b[24;0f\u001b[42m\u001b[30mProgress: [ 29%]\u001b[49m\u001b[39m [################..........................................] \u001b8Selecting previously unselected package libvidstab1.1:amd64.\nPreparing to unpack .../100-libvidstab1.1_1.1.0-2_amd64.deb ...\nUnpacking libvidstab1.1:amd64 (1.1.0-2) ...\nSelecting previously unselected package libavfilter7:amd64.\nPreparing to unpack .../101-libavfilter7_7%3a4.2.4-1ubuntu0.1_amd64.deb ...\nUnpacking libavfilter7:amd64 (7:4.2.4-1ubuntu0.1) ...\nSelecting previously unselected package libcaca0:amd64.\nPreparing to unpack .../102-libcaca0_0.99.beta19-2.1ubuntu1.20.04.2_amd64.deb ...\nUnpacking libcaca0:amd64 (0.99.beta19-2.1ubuntu1.20.04.2) ...\nSelecting previously unselected package libcdio18:amd64.\nPreparing to unpack .../103-libcdio18_2.0.0-2_amd64.deb ...\n\u001b7\u001b[24;0f\u001b[42m\u001b[30mProgress: [ 30%]\u001b[49m\u001b[39m [#################.........................................] \u001b8Unpacking libcdio18:amd64 (2.0.0-2) ...\nSelecting previously unselected package libcdio-cdda2:amd64.\nPreparing to unpack .../104-libcdio-cdda2_10.2+2.0.0-1_amd64.deb ...\nUnpacking libcdio-cdda2:amd64 (10.2+2.0.0-1) ...\nSelecting previously unselected package libcdio-paranoia2:amd64.\nPreparing to unpack .../105-libcdio-paranoia2_10.2+2.0.0-1_amd64.deb ...\nUnpacking libcdio-paranoia2:amd64 (10.2+2.0.0-1) ...\nSelecting previously unselected package libdc1394-22:amd64.\nPreparing to unpack .../106-libdc1394-22_2.2.5-2.1_amd64.deb ...\nUnpacking libdc1394-22:amd64 (2.2.5-2.1) ...\n\u001b7\u001b[24;0f\u001b[42m\u001b[30mProgress: [ 31%]\u001b[49m\u001b[39m [##################........................................] \u001b8Selecting previously unselected package libglvnd0:amd64.\nPreparing to unpack .../107-libglvnd0_1.3.2-1~ubuntu0.20.04.1_amd64.deb ...\nUnpacking libglvnd0:amd64 (1.3.2-1~ubuntu0.20.04.1) ...\nSelecting previously unselected package libglapi-mesa:amd64.\nPreparing to unpack .../108-libglapi-mesa_21.2.6-0ubuntu0.1~20.04.1_amd64.deb ...\nUnpacking libglapi-mesa:amd64 (21.2.6-0ubuntu0.1~20.04.1) ...\nSelecting previously unselected package libx11-xcb1:amd64.\nPreparing to unpack .../109-libx11-xcb1_2%3a1.6.9-2ubuntu1.2_amd64.deb ...\nUnpacking libx11-xcb1:amd64 (2:1.6.9-2ubuntu1.2) ...\nSelecting previously unselected package libxcb-dri2-0:amd64.\nPreparing to unpack .../110-libxcb-dri2-0_1.14-2_amd64.deb ...\n\u001b7\u001b[24;0f\u001b[42m\u001b[30mProgress: [ 32%]\u001b[49m\u001b[39m [##################........................................] \u001b8Unpacking libxcb-dri2-0:amd64 (1.14-2) ...\nSelecting previously unselected package libxcb-dri3-0:amd64.\nPreparing to unpack .../111-libxcb-dri3-0_1.14-2_amd64.deb ...\nUnpacking libxcb-dri3-0:amd64 (1.14-2) ...\nSelecting previously unselected package libxcb-glx0:amd64.\nPreparing to unpack .../112-libxcb-glx0_1.14-2_amd64.deb ...\nUnpacking libxcb-glx0:amd64 (1.14-2) ...\nSelecting previously unselected package libxcb-present0:amd64.\nPreparing to unpack .../113-libxcb-present0_1.14-2_amd64.deb ...\nUnpacking libxcb-present0:amd64 (1.14-2) ...\n\u001b7\u001b[24;0f\u001b[42m\u001b[30mProgress: [ 33%]\u001b[49m\u001b[39m [###################.......................................] \u001b8Selecting previously unselected package libxcb-sync1:amd64.\nPreparing to unpack .../114-libxcb-sync1_1.14-2_amd64.deb ...\nUnpacking libxcb-sync1:amd64 (1.14-2) ...\nSelecting previously unselected package libxcb-xfixes0:amd64.\nPreparing to unpack .../115-libxcb-xfixes0_1.14-2_amd64.deb ...\nUnpacking libxcb-xfixes0:amd64 (1.14-2) ...\nSelecting previously unselected package libxshmfence1:amd64.\nPreparing to unpack .../116-libxshmfence1_1.3-1_amd64.deb ...\nUnpacking libxshmfence1:amd64 (1.3-1) ...\nSelecting previously unselected package libxxf86vm1:amd64.\nPreparing to unpack .../117-libxxf86vm1_1%3a1.1.4-1build1_amd64.deb ...\n\u001b7\u001b[24;0f\u001b[42m\u001b[30mProgress: [ 34%]\u001b[49m\u001b[39m [###################.......................................] \u001b8Unpacking libxxf86vm1:amd64 (1:1.1.4-1build1) ...\nSelecting previously unselected package libdrm-amdgpu1:amd64.\nPreparing to unpack .../118-libdrm-amdgpu1_2.4.107-8ubuntu1~20.04.1_amd64.deb ...\nUnpacking libdrm-amdgpu1:amd64 (2.4.107-8ubuntu1~20.04.1) ...\nSelecting previously unselected package libpciaccess0:amd64.\nPreparing to unpack .../119-libpciaccess0_0.16-0ubuntu1_amd64.deb ...\nUnpacking libpciaccess0:amd64 (0.16-0ubuntu1) ...\nSelecting previously unselected package libdrm-intel1:amd64.\nPreparing to unpack .../120-libdrm-intel1_2.4.107-8ubuntu1~20.04.1_amd64.deb ...\nUnpacking libdrm-intel1:amd64 (2.4.107-8ubuntu1~20.04.1) ...\n\u001b7\u001b[24;0f\u001b[42m\u001b[30mProgress: [ 35%]\u001b[49m\u001b[39m [####################......................................] \u001b8Selecting previously unselected package libdrm-nouveau2:amd64.\nPreparing to unpack .../121-libdrm-nouveau2_2.4.107-8ubuntu1~20.04.1_amd64.deb ...\nUnpacking libdrm-nouveau2:amd64 (2.4.107-8ubuntu1~20.04.1) ...\nSelecting previously unselected package libdrm-radeon1:amd64.\nPreparing to unpack .../122-libdrm-radeon1_2.4.107-8ubuntu1~20.04.1_amd64.deb ...\nUnpacking libdrm-radeon1:amd64 (2.4.107-8ubuntu1~20.04.1) ...\nSelecting previously unselected package libllvm12:amd64.\nPreparing to unpack .../123-libllvm12_1%3a12.0.0-3ubuntu1~20.04.4_amd64.deb ...\nUnpacking libllvm12:amd64 (1:12.0.0-3ubuntu1~20.04.4) ...\nSelecting previously unselected package libsensors-config.\nPreparing to unpack .../124-libsensors-config_1%3a3.6.0-2ubuntu1_all.deb ...\n\u001b7\u001b[24;0f\u001b[42m\u001b[30mProgress: [ 36%]\u001b[49m\u001b[39m [####################......................................] \u001b8Unpacking libsensors-config (1:3.6.0-2ubuntu1) ...\nSelecting previously unselected package libsensors5:amd64.\nPreparing to unpack .../125-libsensors5_1%3a3.6.0-2ubuntu1_amd64.deb ...\nUnpacking libsensors5:amd64 (1:3.6.0-2ubuntu1) ...\nSelecting previously unselected package libvulkan1:amd64.\nPreparing to unpack .../126-libvulkan1_1.2.131.2-1_amd64.deb ...\nUnpacking libvulkan1:amd64 (1.2.131.2-1) ...\nSelecting previously unselected package libgl1-mesa-dri:amd64.\nPreparing to unpack .../127-libgl1-mesa-dri_21.2.6-0ubuntu0.1~20.04.1_amd64.deb ...\n\u001b7\u001b[24;0f\u001b[42m\u001b[30mProgress: [ 37%]\u001b[49m\u001b[39m [#####################.....................................] \u001b8Unpacking libgl1-mesa-dri:amd64 (21.2.6-0ubuntu0.1~20.04.1) ...\nSelecting previously unselected package libglx-mesa0:amd64.\nPreparing to unpack .../128-libglx-mesa0_21.2.6-0ubuntu0.1~20.04.1_amd64.deb ...\nUnpacking libglx-mesa0:amd64 (21.2.6-0ubuntu0.1~20.04.1) ...\nSelecting previously unselected package libglx0:amd64.\nPreparing to unpack .../129-libglx0_1.3.2-1~ubuntu0.20.04.1_amd64.deb ...\nUnpacking libglx0:amd64 (1.3.2-1~ubuntu0.20.04.1) ...\nSelecting previously unselected package libgl1:amd64.\nPreparing to unpack .../130-libgl1_1.3.2-1~ubuntu0.20.04.1_amd64.deb ...\nUnpacking libgl1:amd64 (1.3.2-1~ubuntu0.20.04.1) ...\n\u001b7\u001b[24;0f\u001b[42m\u001b[30mProgress: [ 38%]\u001b[49m\u001b[39m [######################....................................] \u001b8Selecting previously unselected package libiec61883-0:amd64.\nPreparing to unpack .../131-libiec61883-0_1.2.0-3_amd64.deb ...\nUnpacking libiec61883-0:amd64 (1.2.0-3) ...\nSelecting previously unselected package libjack-jackd2-0:amd64.\nPreparing to unpack .../132-libjack-jackd2-0_1.9.12~dfsg-2ubuntu2_amd64.deb ...\nUnpacking libjack-jackd2-0:amd64 (1.9.12~dfsg-2ubuntu2) ...\nSelecting previously unselected package libopenal-data.\nPreparing to unpack .../133-libopenal-data_1%3a1.19.1-1_all.deb ...\nUnpacking libopenal-data (1:1.19.1-1) ...\nSelecting previously unselected package libsndio7.0:amd64.\nPreparing to unpack .../134-libsndio7.0_1.5.0-3_amd64.deb ...\n\u001b7\u001b[24;0f\u001b[42m\u001b[30mProgress: [ 39%]\u001b[49m\u001b[39m [######################....................................] \u001b8Unpacking libsndio7.0:amd64 (1.5.0-3) ...\nSelecting previously unselected package libopenal1:amd64.\nPreparing to unpack .../135-libopenal1_1%3a1.19.1-1_amd64.deb ...\nUnpacking libopenal1:amd64 (1:1.19.1-1) ...\nSelecting previously unselected package libasyncns0:amd64.\nPreparing to unpack .../136-libasyncns0_0.8-6_amd64.deb ...\nUnpacking libasyncns0:amd64 (0.8-6) ...\nSelecting previously unselected package libflac8:amd64.\nPreparing to unpack .../137-libflac8_1.3.3-1build1_amd64.deb ...\nUnpacking libflac8:amd64 (1.3.3-1build1) ...\n\u001b7\u001b[24;0f\u001b[42m\u001b[30mProgress: [ 40%]\u001b[49m\u001b[39m [#######################...................................] \u001b8Selecting previously unselected package libsndfile1:amd64.\nPreparing to unpack .../138-libsndfile1_1.0.28-7ubuntu0.1_amd64.deb ...\nUnpacking libsndfile1:amd64 (1.0.28-7ubuntu0.1) ...\nSelecting previously unselected package libwrap0:amd64.\nPreparing to unpack .../139-libwrap0_7.6.q-30_amd64.deb ...\nUnpacking libwrap0:amd64 (7.6.q-30) ...\nSelecting previously unselected package libpulse0:amd64.\nPreparing to unpack .../140-libpulse0_1%3a13.99.1-1ubuntu3.13_amd64.deb ...\nUnpacking libpulse0:amd64 (1:13.99.1-1ubuntu3.13) ...\nSelecting previously unselected package libwayland-client0:amd64.\nPreparing to unpack .../141-libwayland-client0_1.18.0-1_amd64.deb ...\n\u001b7\u001b[24;0f\u001b[42m\u001b[30mProgress: [ 41%]\u001b[49m\u001b[39m [#######################...................................] \u001b8Unpacking libwayland-client0:amd64 (1.18.0-1) ...\nSelecting previously unselected package libwayland-cursor0:amd64.\nPreparing to unpack .../142-libwayland-cursor0_1.18.0-1_amd64.deb ...\nUnpacking libwayland-cursor0:amd64 (1.18.0-1) ...\nSelecting previously unselected package libwayland-egl1:amd64.\nPreparing to unpack .../143-libwayland-egl1_1.18.0-1_amd64.deb ...\nUnpacking libwayland-egl1:amd64 (1.18.0-1) ...\nSelecting previously unselected package libxcursor1:amd64.\nPreparing to unpack .../144-libxcursor1_1%3a1.2.0-2_amd64.deb ...\nUnpacking libxcursor1:amd64 (1:1.2.0-2) ...\n\u001b7\u001b[24;0f\u001b[42m\u001b[30mProgress: [ 42%]\u001b[49m\u001b[39m [########################..................................] \u001b8Selecting previously unselected package libxi6:amd64.\nPreparing to unpack .../145-libxi6_2%3a1.7.10-0ubuntu1_amd64.deb ...\nUnpacking libxi6:amd64 (2:1.7.10-0ubuntu1) ...\nSelecting previously unselected package libxinerama1:amd64.\nPreparing to unpack .../146-libxinerama1_2%3a1.1.4-2_amd64.deb ...\nUnpacking libxinerama1:amd64 (2:1.1.4-2) ...\nSelecting previously unselected package libxkbcommon0:amd64.\nPreparing to unpack .../147-libxkbcommon0_0.10.0-1_amd64.deb ...\nUnpacking libxkbcommon0:amd64 (0.10.0-1) ...\nSelecting previously unselected package libxrandr2:amd64.\nPreparing to unpack .../148-libxrandr2_2%3a1.5.2-0ubuntu1_amd64.deb ...\n\u001b7\u001b[24;0f\u001b[42m\u001b[30mProgress: [ 43%]\u001b[49m\u001b[39m [#########################.................................] \u001b8Unpacking libxrandr2:amd64 (2:1.5.2-0ubuntu1) ...\nSelecting previously unselected package x11-common.\nPreparing to unpack .../149-x11-common_1%3a7.7+19ubuntu14_all.deb ...\n\u001b[1mdpkg-query:\u001b[0m no packages found matching nux-tools\nUnpacking x11-common (1:7.7+19ubuntu14) ...\nSelecting previously unselected package libxss1:amd64.\nPreparing to unpack .../150-libxss1_1%3a1.2.3-1_amd64.deb ...\nUnpacking libxss1:amd64 (1:1.2.3-1) ...\nSelecting previously unselected package libsdl2-2.0-0:amd64.\nPreparing to unpack .../151-libsdl2-2.0-0_2.0.10+dfsg1-3_amd64.deb ...\nUnpacking libsdl2-2.0-0:amd64 (2.0.10+dfsg1-3) ...\n\u001b7\u001b[24;0f\u001b[42m\u001b[30mProgress: [ 44%]\u001b[49m\u001b[39m [#########################.................................] \u001b8Selecting previously unselected package libxcb-shape0:amd64.\nPreparing to unpack .../152-libxcb-shape0_1.14-2_amd64.deb ...\nUnpacking libxcb-shape0:amd64 (1.14-2) ...\nSelecting previously unselected package libxv1:amd64.\nPreparing to unpack .../153-libxv1_2%3a1.0.11-1_amd64.deb ...\nUnpacking libxv1:amd64 (2:1.0.11-1) ...\nSelecting previously unselected package libavdevice58:amd64.\nPreparing to unpack .../154-libavdevice58_7%3a4.2.4-1ubuntu0.1_amd64.deb ...\nUnpacking libavdevice58:amd64 (7:4.2.4-1ubuntu0.1) ...\nSelecting previously unselected package libavresample4:amd64.\nPreparing to unpack .../155-libavresample4_7%3a4.2.4-1ubuntu0.1_amd64.deb ...\n\u001b7\u001b[24;0f\u001b[42m\u001b[30mProgress: [ 45%]\u001b[49m\u001b[39m [##########################................................] \u001b8Unpacking libavresample4:amd64 (7:4.2.4-1ubuntu0.1) ...\nSelecting previously unselected package ffmpeg.\nPreparing to unpack .../156-ffmpeg_7%3a4.2.4-1ubuntu0.1_amd64.deb ...\nUnpacking ffmpeg (7:4.2.4-1ubuntu0.1) ...\nSelecting previously unselected package libigdgmm11:amd64.\nPreparing to unpack .../157-libigdgmm11_20.1.1+ds1-1_amd64.deb ...\nUnpacking libigdgmm11:amd64 (20.1.1+ds1-1) ...\nSelecting previously unselected package intel-media-va-driver:amd64.\nPreparing to unpack .../158-intel-media-va-driver_20.1.1+dfsg1-1_amd64.deb ...\n\u001b7\u001b[24;0f\u001b[42m\u001b[30mProgress: [ 46%]\u001b[49m\u001b[39m [##########################................................] \u001b8Unpacking intel-media-va-driver:amd64 (20.1.1+dfsg1-1) ...\nSelecting previously unselected package libaacs0:amd64.\nPreparing to unpack .../159-libaacs0_0.9.0-2_amd64.deb ...\nUnpacking libaacs0:amd64 (0.9.0-2) ...\nSelecting previously unselected package libbdplus0:amd64.\nPreparing to unpack .../160-libbdplus0_0.1.2-3_amd64.deb ...\nUnpacking libbdplus0:amd64 (0.1.2-3) ...\nSelecting previously unselected package libgdk-pixbuf2.0-bin.\nPreparing to unpack .../161-libgdk-pixbuf2.0-bin_2.40.0+dfsg-3ubuntu0.2_amd64.deb ...\nUnpacking libgdk-pixbuf2.0-bin (2.40.0+dfsg-3ubuntu0.2) ...\n\u001b7\u001b[24;0f\u001b[42m\u001b[30mProgress: [ 47%]\u001b[49m\u001b[39m [###########################...............................] \u001b8Selecting previously unselected package libice6:amd64.\nPreparing to unpack .../162-libice6_2%3a1.0.10-0ubuntu1_amd64.deb ...\nUnpacking libice6:amd64 (2:1.0.10-0ubuntu1) ...\nSelecting previously unselected package librsvg2-common:amd64.\nPreparing to unpack .../163-librsvg2-common_2.48.9-1ubuntu0.20.04.1_amd64.deb ...\nUnpacking librsvg2-common:amd64 (2.48.9-1ubuntu0.20.04.1) ...\nSelecting previously unselected package libsm6:amd64.\nPreparing to unpack .../164-libsm6_2%3a1.2.3-1_amd64.deb ...\nUnpacking libsm6:amd64 (2:1.2.3-1) ...\nSelecting previously unselected package libxcb-randr0:amd64.\nPreparing to unpack .../165-libxcb-randr0_1.14-2_amd64.deb ...\n\u001b7\u001b[24;0f\u001b[42m\u001b[30mProgress: [ 48%]\u001b[49m\u001b[39m [###########################...............................] \u001b8Unpacking libxcb-randr0:amd64 (1.14-2) ...\nSelecting previously unselected package mesa-va-drivers:amd64.\nPreparing to unpack .../166-mesa-va-drivers_21.2.6-0ubuntu0.1~20.04.1_amd64.deb ...\nUnpacking mesa-va-drivers:amd64 (21.2.6-0ubuntu0.1~20.04.1) ...\nSelecting previously unselected package mesa-vdpau-drivers:amd64.\nPreparing to unpack .../167-mesa-vdpau-drivers_21.2.6-0ubuntu0.1~20.04.1_amd64.deb ...\nUnpacking mesa-vdpau-drivers:amd64 (21.2.6-0ubuntu0.1~20.04.1) ...\nSelecting previously unselected package mesa-vulkan-drivers:amd64.\nPreparing to unpack .../168-mesa-vulkan-drivers_21.2.6-0ubuntu0.1~20.04.1_amd64.deb ...\nUnpacking mesa-vulkan-drivers:amd64 (21.2.6-0ubuntu0.1~20.04.1) ...\n\u001b7\u001b[24;0f\u001b[42m\u001b[30mProgress: [ 49%]\u001b[49m\u001b[39m [############################..............................] \u001b8Selecting previously unselected package i965-va-driver:amd64.\nPreparing to unpack .../169-i965-va-driver_2.4.0-0ubuntu1_amd64.deb ...\nUnpacking i965-va-driver:amd64 (2.4.0-0ubuntu1) ...\nSelecting previously unselected package va-driver-all:amd64.\nPreparing to unpack .../170-va-driver-all_2.7.0-2_amd64.deb ...\nUnpacking va-driver-all:amd64 (2.7.0-2) ...\nSelecting previously unselected package vdpau-driver-all:amd64.\nPreparing to unpack .../171-vdpau-driver-all_1.3-1ubuntu2_amd64.deb ...\nUnpacking vdpau-driver-all:amd64 (1.3-1ubuntu2) ...\nSetting up libgme0:amd64 (0.6.2-1build1) ...\n\u001b7\u001b[24;0f\u001b[42m\u001b[30mProgress: [ 50%]\u001b[49m\u001b[39m [#############################.............................] \u001b8Setting up libssh-gcrypt-4:amd64 (0.9.3-2ubuntu2.2) ...\nSetting up libgraphite2-3:amd64 (1.3.13-11build1) ...\nSetting up libpixman-1-0:amd64 (0.38.4-0ubuntu1) ...\n\u001b7\u001b[24;0f\u001b[42m\u001b[30mProgress: [ 51%]\u001b[49m\u001b[39m [#############################.............................] \u001b8Setting up libx11-xcb1:amd64 (2:1.6.9-2ubuntu1.2) ...\nSetting up libpciaccess0:amd64 (0.16-0ubuntu1) ...\nSetting up libxau6:amd64 (1:1.0.9-0ubuntu1) ...\nSetting up libraw1394-11:amd64 (2.1.2-1) ...\n\u001b7\u001b[24;0f\u001b[42m\u001b[30mProgress: [ 52%]\u001b[49m\u001b[39m [##############################............................] \u001b8Setting up libmpg123-0:amd64 (1.25.13-1) ...\nSetting up libogg0:amd64 (1.3.4-0ubuntu1) ...\nSetting up libspeex1:amd64 (1.2~rc1.2-1.1ubuntu1.20.04.1) ...\n\u001b7\u001b[24;0f\u001b[42m\u001b[30mProgress: [ 53%]\u001b[49m\u001b[39m [##############################............................] \u001b8Setting up libshine3:amd64 (3.1.1-2) ...\nSetting up libtwolame0:amd64 (0.4.0-2) ...\nSetting up libdatrie1:amd64 (0.2.12-3) ...\nSetting up alsa-ucm-conf (1.2.2-1ubuntu0.11) ...\n\u001b7\u001b[24;0f\u001b[42m\u001b[30mProgress: [ 54%]\u001b[49m\u001b[39m [###############################...........................] \u001b8Setting up libgsm1:amd64 (1.0.18-2) ...\nSetting up libx264-155:amd64 (2:0.155.2917+git0a84d98-2) ...\nSetting up libsoxr0:amd64 (0.1.3-2build1) ...\n\u001b7\u001b[24;0f\u001b[42m\u001b[30mProgress: [ 55%]\u001b[49m\u001b[39m [###############################...........................] \u001b8Setting up libglvnd0:amd64 (1.3.2-1~ubuntu0.20.04.1) ...\nSetting up libaom0:amd64 (1.0.0.errata1-3build1) ...\nSetting up libgdk-pixbuf2.0-common (2.40.0+dfsg-3ubuntu0.2) ...\n\u001b7\u001b[24;0f\u001b[42m\u001b[30mProgress: [ 56%]\u001b[49m\u001b[39m [################################..........................] \u001b8Setting up libmysofa1:amd64 (1.0~dfsg0-1) ...\nSetting up x11-common (1:7.7+19ubuntu14) ...\nupdate-rc.d: warning: start and stop actions are no longer supported; falling back to defaults\ninvoke-rc.d: could not determine current runlevel\ninvoke-rc.d: policy-rc.d denied execution of start.\nSetting up libsensors-config (1:3.6.0-2ubuntu1) ...\nSetting up libcdio18:amd64 (2.0.0-2) ...\n\u001b7\u001b[24;0f\u001b[42m\u001b[30mProgress: [ 57%]\u001b[49m\u001b[39m [#################################.........................] \u001b8Setting up xkb-data (2.29-2) ...\nSetting up libxvidcore4:amd64 (2:1.3.7-1) ...\nSetting up libjbig0:amd64 (2.1-3.1build1) ...\n\u001b7\u001b[24;0f\u001b[42m\u001b[30mProgress: [ 58%]\u001b[49m\u001b[39m [#################################.........................] \u001b8Setting up libsnappy1v5:amd64 (1.1.8-1build1) ...\nSetting up libflac8:amd64 (1.3.3-1build1) ...\nSetting up libasound2-data (1.2.2-2.1ubuntu2.5) ...\nSetting up libslang2:amd64 (2.3.2-4) ...\n\u001b7\u001b[24;0f\u001b[42m\u001b[30mProgress: [ 59%]\u001b[49m\u001b[39m [##################################........................] \u001b8Setting up libva2:amd64 (2.7.0-2) ...\nSetting up libwrap0:amd64 (7.6.q-30) ...\nSetting up libigdgmm11:amd64 (20.1.1+ds1-1) ...\n\u001b7\u001b[24;0f\u001b[42m\u001b[30mProgress: [ 60%]\u001b[49m\u001b[39m [##################################........................] \u001b8Setting up libx11-data (2:1.6.9-2ubuntu1.2) ...\nSetting up libcodec2-0.9:amd64 (0.9.2-2) ...\nSetting up libfribidi0:amd64 (1.0.8-2) ...\nSetting up libopus0:amd64 (1.3.1-0ubuntu1) ...\n\u001b7\u001b[24;0f\u001b[42m\u001b[30mProgress: [ 61%]\u001b[49m\u001b[39m [###################################.......................] \u001b8Setting up shared-mime-info (1.15-1) ...\nSetting up intel-media-va-driver:amd64 (20.1.1+dfsg1-1) ...\nSetting up libvorbis0a:amd64 (1.3.6-2ubuntu1) ...\n\u001b7\u001b[24;0f\u001b[42m\u001b[30mProgress: [ 62%]\u001b[49m\u001b[39m [####################################......................] \u001b8Setting up libwebp6:amd64 (0.6.1-2ubuntu0.20.04.1) ...\nSetting up fonts-dejavu-core (2.37-1) ...\nSetting up ucf (3.0038+nmu1) ...\nSetting up libsensors5:amd64 (1:3.6.0-2ubuntu1) ...\n\u001b7\u001b[24;0f\u001b[42m\u001b[30mProgress: [ 63%]\u001b[49m\u001b[39m [####################################......................] \u001b8Setting up libaacs0:amd64 (0.9.0-2) ...\nSetting up libfftw3-double3:amd64 (3.3.8-2ubuntu1) ...\nSetting up libglapi-mesa:amd64 (21.2.6-0ubuntu0.1~20.04.1) ...\n\u001b7\u001b[24;0f\u001b[42m\u001b[30mProgress: [ 64%]\u001b[49m\u001b[39m [#####################################.....................] \u001b8Setting up libvulkan1:amd64 (1.2.131.2-1) ...\nSetting up libbdplus0:amd64 (0.1.2-3) ...\nSetting up libnuma1:amd64 (2.0.12-1) ...\n\u001b7\u001b[24;0f\u001b[42m\u001b[30mProgress: [ 65%]\u001b[49m\u001b[39m [#####################################.....................] \u001b8Setting up libvidstab1.1:amd64 (1.1.0-2) ...\nSetting up alsa-topology-conf (1.2.2-1) ...\nSetting up ocl-icd-libopencl1:amd64 (2.2.11-1ubuntu1) ...\nSetting up libasyncns0:amd64 (0.8-6) ...\n\u001b7\u001b[24;0f\u001b[42m\u001b[30mProgress: [ 66%]\u001b[49m\u001b[39m [######################################....................] \u001b8Setting up libxshmfence1:amd64 (1.3-1) ...\nSetting up libvpx6:amd64 (1.8.2-1build1) ...\nSetting up libwavpack1:amd64 (5.2.0-1ubuntu0.1) ...\n\u001b7\u001b[24;0f\u001b[42m\u001b[30mProgress: [ 67%]\u001b[49m\u001b[39m [######################################....................] \u001b8Setting up libbs2b0:amd64 (3.1.0+dfsg-2.2build1) ...\nSetting up libasound2:amd64 (1.2.2-2.1ubuntu2.5) ...\nSetting up libopenjp2-7:amd64 (2.3.1-1ubuntu4.20.04.1) ...\nSetting up libharfbuzz0b:amd64 (2.6.4-1ubuntu4) ...\n\u001b7\u001b[24;0f\u001b[42m\u001b[30mProgress: [ 68%]\u001b[49m\u001b[39m [#######################################...................] \u001b8Setting up libopenal-data (1:1.19.1-1) ...\nSetting up libthai-data (0.1.28-3) ...\nSetting up libtiff5:amd64 (4.1.0+git191117-2ubuntu0.20.04.2) ...\n\u001b7\u001b[24;0f\u001b[42m\u001b[30mProgress: [ 69%]\u001b[49m\u001b[39m [########################################..................] \u001b8Setting up libwayland-egl1:amd64 (1.18.0-1) ...\nSetting up libusb-1.0-0:amd64 (2:1.0.23-2build1) ...\nSetting up libsamplerate0:amd64 (0.1.9-2) ...\nSetting up libwebpmux3:amd64 (0.6.1-2ubuntu0.20.04.1) ...\n\u001b7\u001b[24;0f\u001b[42m\u001b[30mProgress: [ 70%]\u001b[49m\u001b[39m [########################################..................] \u001b8Setting up libbsd0:amd64 (0.10.0-1) ...\nSetting up libdrm-common (2.4.107-8ubuntu1~20.04.1) ...\nSetting up libzvbi-common (0.2.35-17) ...\n\u001b7\u001b[24;0f\u001b[42m\u001b[30mProgress: [ 71%]\u001b[49m\u001b[39m [#########################################.................] \u001b8Setting up libmp3lame0:amd64 (3.100-3) ...\nSetting up libvorbisenc2:amd64 (1.3.6-2ubuntu1) ...\nSetting up libiec61883-0:amd64 (1.2.0-3) ...\nSetting up libserd-0-0:amd64 (0.30.2-1) ...\n\u001b7\u001b[24;0f\u001b[42m\u001b[30mProgress: [ 72%]\u001b[49m\u001b[39m [#########################################.................] \u001b8Setting up libxkbcommon0:amd64 (0.10.0-1) ...\nSetting up libwayland-client0:amd64 (1.18.0-1) ...\nSetting up libavc1394-0:amd64 (0.5.4-5) ...\n\u001b7\u001b[24;0f\u001b[42m\u001b[30mProgress: [ 73%]\u001b[49m\u001b[39m [##########################################................] \u001b8Setting up libzvbi0:amd64 (0.2.35-17) ...\nSetting up libice6:amd64 (2:1.0.10-0ubuntu1) ...\nSetting up libxdmcp6:amd64 (1:1.1.3-0ubuntu1) ...\n\u001b7\u001b[24;0f\u001b[42m\u001b[30mProgress: [ 74%]\u001b[49m\u001b[39m [##########################################................] \u001b8Setting up libxcb1:amd64 (1.14-2) ...\nSetting up libxcb-xfixes0:amd64 (1.14-2) ...\nSetting up libcaca0:amd64 (0.99.beta19-2.1ubuntu1.20.04.2) ...\nSetting up libx265-179:amd64 (3.2.1-1build1) ...\n\u001b7\u001b[24;0f\u001b[42m\u001b[30mProgress: [ 75%]\u001b[49m\u001b[39m [###########################################...............] \u001b8Setting up libxcb-render0:amd64 (1.14-2) ...\nSetting up libcdio-cdda2:amd64 (10.2+2.0.0-1) ...\nSetting up fontconfig-config (2.13.1-2ubuntu3) ...\n\u001b7\u001b[24;0f\u001b[42m\u001b[30mProgress: [ 76%]\u001b[49m\u001b[39m [############################################..............] \u001b8Setting up libcdio-paranoia2:amd64 (10.2+2.0.0-1) ...\nSetting up libxcb-glx0:amd64 (1.14-2) ...\nSetting up libedit2:amd64 (3.1-20191231-1) ...\nSetting up libxcb-shape0:amd64 (1.14-2) ...\n\u001b7\u001b[24;0f\u001b[42m\u001b[30mProgress: [ 77%]\u001b[49m\u001b[39m [############################################..............] \u001b8Setting up libdc1394-22:amd64 (2.2.5-2.1) ...\nSetting up libxcb-shm0:amd64 (1.14-2) ...\nSetting up libxcb-present0:amd64 (1.14-2) ...\n\u001b7\u001b[24;0f\u001b[42m\u001b[30mProgress: [ 78%]\u001b[49m\u001b[39m [#############################################.............] \u001b8Setting up libthai0:amd64 (0.1.28-3) ...\nSetting up libvorbisfile3:amd64 (1.3.6-2ubuntu1) ...\nSetting up libxcb-sync1:amd64 (1.14-2) ...\nSetting up libllvm12:amd64 (1:12.0.0-3ubuntu1~20.04.4) ...\n\u001b7\u001b[24;0f\u001b[42m\u001b[30mProgress: [ 79%]\u001b[49m\u001b[39m [#############################################.............] \u001b8Setting up librubberband2:amd64 (1.8.2-1build1) ...\nSetting up libsndio7.0:amd64 (1.5.0-3) ...\nSetting up libxcb-dri2-0:amd64 (1.14-2) ...\n\u001b7\u001b[24;0f\u001b[42m\u001b[30mProgress: [ 80%]\u001b[49m\u001b[39m [##############################################............] \u001b8Setting up libjack-jackd2-0:amd64 (1.9.12~dfsg-2ubuntu2) ...\nSetting up libdrm2:amd64 (2.4.107-8ubuntu1~20.04.1) ...\nSetting up libflite1:amd64 (2.1-release-3) ...\nSetting up libva-drm2:amd64 (2.7.0-2) ...\n\u001b7\u001b[24;0f\u001b[42m\u001b[30mProgress: [ 81%]\u001b[49m\u001b[39m [###############################################...........] \u001b8Setting up libsord-0-0:amd64 (0.16.4-1) ...\nSetting up libwayland-cursor0:amd64 (1.18.0-1) ...\nSetting up libxcb-randr0:amd64 (1.14-2) ...\n\u001b7\u001b[24;0f\u001b[42m\u001b[30mProgress: [ 82%]\u001b[49m\u001b[39m [###############################################...........] \u001b8Setting up libsratom-0-0:amd64 (0.6.4-1) ...\nSetting up libx11-6:amd64 (2:1.6.9-2ubuntu1.2) ...\nSetting up libfontconfig1:amd64 (2.13.1-2ubuntu3) ...\n\u001b7\u001b[24;0f\u001b[42m\u001b[30mProgress: [ 83%]\u001b[49m\u001b[39m [################################################..........] \u001b8Setting up libsndfile1:amd64 (1.0.28-7ubuntu0.1) ...\nSetting up libbluray2:amd64 (1:1.2.0-1) ...\nSetting up libsm6:amd64 (2:1.2.3-1) ...\nSetting up liblilv-0-0:amd64 (0.24.6-1ubuntu0.1) ...\n\u001b7\u001b[24;0f\u001b[42m\u001b[30mProgress: [ 84%]\u001b[49m\u001b[39m [################################################..........] \u001b8Setting up libopenmpt0:amd64 (0.4.11-1build1) ...\nSetting up libdrm-amdgpu1:amd64 (2.4.107-8ubuntu1~20.04.1) ...\nSetting up libxcb-dri3-0:amd64 (1.14-2) ...\n\u001b7\u001b[24;0f\u001b[42m\u001b[30mProgress: [ 85%]\u001b[49m\u001b[39m [#################################################.........] \u001b8Setting up mesa-vulkan-drivers:amd64 (21.2.6-0ubuntu0.1~20.04.1) ...\nSetting up fontconfig (2.13.1-2ubuntu3) ...\nRegenerating fonts cache... done.\nSetting up libdrm-nouveau2:amd64 (2.4.107-8ubuntu1~20.04.1) ...\nSetting up libxrender1:amd64 (1:0.9.10-1) ...\n\u001b7\u001b[24;0f\u001b[42m\u001b[30mProgress: [ 86%]\u001b[49m\u001b[39m [#################################################.........] \u001b8Setting up libpulse0:amd64 (1:13.99.1-1ubuntu3.13) ...\nSetting up libdrm-radeon1:amd64 (2.4.107-8ubuntu1~20.04.1) ...\nSetting up libpango-1.0-0:amd64 (1.44.7-2ubuntu4) ...\n\u001b7\u001b[24;0f\u001b[42m\u001b[30mProgress: [ 87%]\u001b[49m\u001b[39m [##################################################........] \u001b8Setting up libdrm-intel1:amd64 (2.4.107-8ubuntu1~20.04.1) ...\nSetting up libgl1-mesa-dri:amd64 (21.2.6-0ubuntu0.1~20.04.1) ...\nSetting up libxext6:amd64 (2:1.3.4-0ubuntu1) ...\nSetting up libopenal1:amd64 (1:1.19.1-1) ...\n\u001b7\u001b[24;0f\u001b[42m\u001b[30mProgress: [ 88%]\u001b[49m\u001b[39m [###################################################.......] \u001b8Setting up libcairo2:amd64 (1.16.0-4ubuntu1) ...\nSetting up libxxf86vm1:amd64 (1:1.1.4-1build1) ...\nSetting up libass9:amd64 (1:0.14.0-2) ...\n\u001b7\u001b[24;0f\u001b[42m\u001b[30mProgress: [ 89%]\u001b[49m\u001b[39m [###################################################.......] \u001b8Setting up libxfixes3:amd64 (1:5.0.3-2) ...\nSetting up libgdk-pixbuf2.0-0:amd64 (2.40.0+dfsg-3ubuntu0.2) ...\nSetting up libxinerama1:amd64 (2:1.1.4-2) ...\nSetting up libxv1:amd64 (2:1.0.11-1) ...\n\u001b7\u001b[24;0f\u001b[42m\u001b[30mProgress: [ 90%]\u001b[49m\u001b[39m [####################################################......] \u001b8Setting up libxrandr2:amd64 (2:1.5.2-0ubuntu1) ...\nSetting up libgdk-pixbuf2.0-bin (2.40.0+dfsg-3ubuntu0.2) ...\nSetting up libvdpau1:amd64 (1.3-1ubuntu2) ...\n\u001b7\u001b[24;0f\u001b[42m\u001b[30mProgress: [ 91%]\u001b[49m\u001b[39m [####################################################......] \u001b8Setting up libtheora0:amd64 (1.1.1+dfsg.1-15ubuntu2) ...\nSetting up libcairo-gobject2:amd64 (1.16.0-4ubuntu1) ...\nSetting up libxss1:amd64 (1:1.2.3-1) ...\n\u001b7\u001b[24;0f\u001b[42m\u001b[30mProgress: [ 92%]\u001b[49m\u001b[39m [#####################################################.....] \u001b8Setting up mesa-va-drivers:amd64 (21.2.6-0ubuntu0.1~20.04.1) ...\nSetting up libpangoft2-1.0-0:amd64 (1.44.7-2ubuntu4) ...\nSetting up libva-x11-2:amd64 (2.7.0-2) ...\nSetting up i965-va-driver:amd64 (2.4.0-0ubuntu1) ...\n\u001b7\u001b[24;0f\u001b[42m\u001b[30mProgress: [ 93%]\u001b[49m\u001b[39m [#####################################################.....] \u001b8Setting up libpangocairo-1.0-0:amd64 (1.44.7-2ubuntu4) ...\nSetting up mesa-vdpau-drivers:amd64 (21.2.6-0ubuntu0.1~20.04.1) ...\nSetting up libglx-mesa0:amd64 (21.2.6-0ubuntu0.1~20.04.1) ...\n\u001b7\u001b[24;0f\u001b[42m\u001b[30mProgress: [ 94%]\u001b[49m\u001b[39m [######################################################....] \u001b8Setting up libxi6:amd64 (2:1.7.10-0ubuntu1) ...\nSetting up libglx0:amd64 (1.3.2-1~ubuntu0.20.04.1) ...\nSetting up libxcursor1:amd64 (1:1.2.0-2) ...\nSetting up libavutil56:amd64 (7:4.2.4-1ubuntu0.1) ...\n\u001b7\u001b[24;0f\u001b[42m\u001b[30mProgress: [ 95%]\u001b[49m\u001b[39m [#######################################################...] \u001b8Setting up librsvg2-2:amd64 (2.48.9-1ubuntu0.20.04.1) ...\nSetting up libgl1:amd64 (1.3.2-1~ubuntu0.20.04.1) ...\nSetting up va-driver-all:amd64 (2.7.0-2) ...\n\u001b7\u001b[24;0f\u001b[42m\u001b[30mProgress: [ 96%]\u001b[49m\u001b[39m [#######################################################...] \u001b8Setting up libpostproc55:amd64 (7:4.2.4-1ubuntu0.1) ...\nSetting up librsvg2-common:amd64 (2.48.9-1ubuntu0.20.04.1) ...\nSetting up vdpau-driver-all:amd64 (1.3-1ubuntu2) ...\nSetting up libswscale5:amd64 (7:4.2.4-1ubuntu0.1) ...\nSetting up libsdl2-2.0-0:amd64 (2.0.10+dfsg1-3) ...\n\u001b7\u001b[24;0f\u001b[42m\u001b[30mProgress: [ 97%]\u001b[49m\u001b[39m [########################################################..] \u001b8Setting up libswresample3:amd64 (7:4.2.4-1ubuntu0.1) ...\nSetting up libavresample4:amd64 (7:4.2.4-1ubuntu0.1) ...\nSetting up libavcodec58:amd64 (7:4.2.4-1ubuntu0.1) ...\n\u001b7\u001b[24;0f\u001b[42m\u001b[30mProgress: [ 98%]\u001b[49m\u001b[39m [########################################################..] \u001b8Setting up libchromaprint1:amd64 (1.4.3-3build1) ...\nSetting up libavformat58:amd64 (7:4.2.4-1ubuntu0.1) ...\nSetting up libavfilter7:amd64 (7:4.2.4-1ubuntu0.1) ...\nSetting up libavdevice58:amd64 (7:4.2.4-1ubuntu0.1) ...\n\u001b7\u001b[24;0f\u001b[42m\u001b[30mProgress: [ 99%]\u001b[49m\u001b[39m [#########################################################.] \u001b8Setting up ffmpeg (7:4.2.4-1ubuntu0.1) ...\nProcessing triggers for systemd (245.4-4ubuntu3.13) ...\nProcessing triggers for libc-bin (2.31-0ubuntu9.2) ...\nProcessing triggers for libgdk-pixbuf2.0-0:amd64 (2.40.0+dfsg-3ubuntu0.2) ...\n\n\u001b7\u001b[0;24r\u001b8\u001b[1A\u001b[J",
     "output_type": "stream"
    }
   ]
  },
  {
   "cell_type": "code",
   "metadata": {
    "cell_id": "46660f5b-b986-4811-971d-6f4f843543fe",
    "tags": [],
    "deepnote_to_be_reexecuted": false,
    "source_hash": "45b6a678",
    "execution_start": 1644811838825,
    "execution_millis": 7099,
    "deepnote_cell_type": "code"
   },
   "source": "!pip install opencv-python",
   "execution_count": null,
   "outputs": [
    {
     "name": "stdout",
     "text": "Collecting opencv-python\n  Downloading opencv_python-4.5.5.62-cp36-abi3-manylinux_2_17_x86_64.manylinux2014_x86_64.whl (60.4 MB)\n\u001b[K     |████████████████████████████████| 60.4 MB 31.2 MB/s \n\u001b[?25hRequirement already satisfied: numpy>=1.14.5; python_version >= \"3.7\" in /usr/local/lib/python3.8/dist-packages (from opencv-python) (1.21.3)\nInstalling collected packages: opencv-python\nSuccessfully installed opencv-python-4.5.5.62\n\u001b[33mWARNING: You are using pip version 20.2.4; however, version 22.0.3 is available.\nYou should consider upgrading via the '/usr/bin/python3 -m pip install --upgrade pip' command.\u001b[0m\n",
     "output_type": "stream"
    }
   ]
  },
  {
   "cell_type": "code",
   "metadata": {
    "cell_id": "5a6e2a40-e7c9-488b-87d9-dc276d6c5865",
    "tags": [],
    "deepnote_to_be_reexecuted": false,
    "source_hash": "4458824b",
    "execution_start": 1644811847596,
    "execution_millis": 4133,
    "deepnote_cell_type": "code"
   },
   "source": "!pip install imageio",
   "execution_count": null,
   "outputs": [
    {
     "name": "stdout",
     "text": "Collecting imageio\n  Downloading imageio-2.16.0-py3-none-any.whl (3.3 MB)\n\u001b[K     |████████████████████████████████| 3.3 MB 24.3 MB/s \n\u001b[?25hRequirement already satisfied: pillow>=8.3.2 in /shared-libs/python3.8/py/lib/python3.8/site-packages (from imageio) (8.4.0)\nRequirement already satisfied: numpy>=1.20.0 in /usr/local/lib/python3.8/dist-packages (from imageio) (1.21.3)\nInstalling collected packages: imageio\nSuccessfully installed imageio-2.16.0\n\u001b[33mWARNING: You are using pip version 20.2.4; however, version 22.0.3 is available.\nYou should consider upgrading via the '/usr/bin/python3 -m pip install --upgrade pip' command.\u001b[0m\n",
     "output_type": "stream"
    }
   ]
  },
  {
   "cell_type": "code",
   "metadata": {
    "cell_id": "be5208de-8e25-48b9-8fc9-0c05e2f0311e",
    "tags": [],
    "deepnote_to_be_reexecuted": false,
    "source_hash": "f3db841b",
    "execution_start": 1644811854471,
    "execution_millis": 14788,
    "deepnote_cell_type": "code"
   },
   "source": "!pip install -q git+https://github.com/tensorflow/docs",
   "execution_count": null,
   "outputs": [
    {
     "name": "stdout",
     "text": "\u001b[33mWARNING: You are using pip version 20.2.4; however, version 22.0.3 is available.\r\nYou should consider upgrading via the '/usr/bin/python3 -m pip install --upgrade pip' command.\u001b[0m\r\n",
     "output_type": "stream"
    }
   ]
  },
  {
   "cell_type": "code",
   "metadata": {
    "cell_id": "ae028c11-f4b1-4180-9f60-74f25891fb1f",
    "tags": [],
    "deepnote_to_be_reexecuted": false,
    "source_hash": "94243ef8",
    "execution_start": 1644814279553,
    "execution_millis": 3894,
    "deepnote_cell_type": "code"
   },
   "source": "from tensorflow_docs.vis import embed\nfrom tensorflow.keras import layers\nfrom tensorflow import keras\n\nimport matplotlib.pyplot as plt\nimport tensorflow as tf\nimport pandas as pd\nimport numpy as np\nimport imageio\nimport cv2\nimport os",
   "execution_count": null,
   "outputs": []
  },
  {
   "cell_type": "code",
   "metadata": {
    "cell_id": "09480eaa-48a0-439d-b679-23024487d866",
    "tags": [],
    "deepnote_to_be_reexecuted": false,
    "source_hash": "2000a060",
    "execution_start": 1644814284695,
    "execution_millis": 3,
    "deepnote_cell_type": "code"
   },
   "source": "# global variables\ntrain_dir = \"/work/train_data/\"\nval_dir = \"/work/val_data/\"\ntest_dir = \"/work/test_data/\"\n\n# Hyperparameters\nMAX_SEQ_LENGTH = 20\nNUM_FEATURES = 1024\nIMG_SIZE = 224\n\nEPOCHS = 5",
   "execution_count": null,
   "outputs": []
  },
  {
   "cell_type": "markdown",
   "source": "### References\n1. https://keras.io/examples/vision/video_transformers/)\n2. https://www.tensorflow.org/hub/tutorials/action_recognition_with_tf_hub)\n3. https://colab.research.google.com/github/sayakpaul/Action-Recognition-in-TensorFlow/blob/main/Data_Preparation_UCF101.ipynb",
   "metadata": {
    "cell_id": "fdb0968c-cba8-478b-852c-4389220f825c",
    "tags": [],
    "deepnote_cell_type": "markdown"
   }
  },
  {
   "cell_type": "markdown",
   "source": "## Data Preparation (not complete)",
   "metadata": {
    "cell_id": "c5c164a6-1b18-4f27-a32a-1fef09258dbb",
    "tags": [],
    "deepnote_cell_type": "markdown"
   }
  },
  {
   "cell_type": "markdown",
   "source": "### METADATA loading",
   "metadata": {
    "cell_id": "be3d8688-9ac5-4e29-9e99-f13b154a58ac",
    "tags": [],
    "is_collapsed": false,
    "deepnote_cell_type": "text-cell-h3"
   }
  },
  {
   "cell_type": "code",
   "metadata": {
    "cell_id": "63c68a51-5839-4d9b-9d51-4890d0bed7e1",
    "tags": [],
    "deepnote_to_be_reexecuted": false,
    "source_hash": "68973930",
    "execution_start": 1644814288992,
    "execution_millis": 119,
    "deepnote_cell_type": "code"
   },
   "source": "# Create a dataframe which contains multiclass classification content annotations for each video scene used in the training set.\ntrain_df = pd.read_csv('train.csv', index_col=0, dtype={'combination': object})\ntrain_df[\"path\"] = train_dir + train_df[\"Video ID\"]+ \".0\" + train_df[\"Scene_ID\"].astype(str) + \".mp4\"\ntrain_df.head()",
   "execution_count": null,
   "outputs": [
    {
     "output_type": "execute_result",
     "execution_count": 6,
     "data": {
      "application/vnd.deepnote.dataframe.v3+json": {
       "column_count": 12,
       "row_count": 5,
       "columns": [
        {
         "name": "Video ID",
         "dtype": "object",
         "stats": {
          "unique_count": 2,
          "nan_count": 0,
          "categories": [
           {
            "name": "tt2788710",
            "count": 3
           },
           {
            "name": "tt2872718",
            "count": 2
           }
          ]
         }
        },
        {
         "name": "Scene_ID",
         "dtype": "int64",
         "stats": {
          "unique_count": 3,
          "nan_count": 0,
          "min": "0",
          "max": "2",
          "histogram": [
           {
            "bin_start": 0,
            "bin_end": 0.2,
            "count": 2
           },
           {
            "bin_start": 0.2,
            "bin_end": 0.4,
            "count": 0
           },
           {
            "bin_start": 0.4,
            "bin_end": 0.6000000000000001,
            "count": 0
           },
           {
            "bin_start": 0.6000000000000001,
            "bin_end": 0.8,
            "count": 0
           },
           {
            "bin_start": 0.8,
            "bin_end": 1,
            "count": 0
           },
           {
            "bin_start": 1,
            "bin_end": 1.2000000000000002,
            "count": 2
           },
           {
            "bin_start": 1.2000000000000002,
            "bin_end": 1.4000000000000001,
            "count": 0
           },
           {
            "bin_start": 1.4000000000000001,
            "bin_end": 1.6,
            "count": 0
           },
           {
            "bin_start": 1.6,
            "bin_end": 1.8,
            "count": 0
           },
           {
            "bin_start": 1.8,
            "bin_end": 2,
            "count": 1
           }
          ]
         }
        },
        {
         "name": "Video URL",
         "dtype": "object",
         "stats": {
          "unique_count": 2,
          "nan_count": 0,
          "categories": [
           {
            "name": " https://www.imdb.com/videoplayer/vi1114222361",
            "count": 3
           },
           {
            "name": " https://www.imdb.com/videoplayer/vi4179799833",
            "count": 2
           }
          ]
         }
        },
        {
         "name": "Codec",
         "dtype": "object",
         "stats": {
          "unique_count": 1,
          "nan_count": 0,
          "categories": [
           {
            "name": "h264",
            "count": 5
           }
          ]
         }
        },
        {
         "name": "Resolution",
         "dtype": "object",
         "stats": {
          "unique_count": 1,
          "nan_count": 0,
          "categories": [
           {
            "name": "854 x 480",
            "count": 5
           }
          ]
         }
        },
        {
         "name": "Avg Frame rate",
         "dtype": "float64",
         "stats": {
          "unique_count": 1,
          "nan_count": 0,
          "min": "23.976023976024",
          "max": "23.976023976024",
          "histogram": [
           {
            "bin_start": 23.476023976024,
            "bin_end": 23.576023976024,
            "count": 0
           },
           {
            "bin_start": 23.576023976024,
            "bin_end": 23.676023976024,
            "count": 0
           },
           {
            "bin_start": 23.676023976024,
            "bin_end": 23.776023976024,
            "count": 0
           },
           {
            "bin_start": 23.776023976024,
            "bin_end": 23.876023976023998,
            "count": 0
           },
           {
            "bin_start": 23.876023976023998,
            "bin_end": 23.976023976024,
            "count": 0
           },
           {
            "bin_start": 23.976023976024,
            "bin_end": 24.076023976024,
            "count": 5
           },
           {
            "bin_start": 24.076023976024,
            "bin_end": 24.176023976024,
            "count": 0
           },
           {
            "bin_start": 24.176023976024,
            "bin_end": 24.276023976024,
            "count": 0
           },
           {
            "bin_start": 24.276023976024,
            "bin_end": 24.376023976023998,
            "count": 0
           },
           {
            "bin_start": 24.376023976023998,
            "bin_end": 24.476023976024,
            "count": 0
           }
          ]
         }
        },
        {
         "name": "Mature Humor - Scene Annotation",
         "dtype": "int64",
         "stats": {
          "unique_count": 2,
          "nan_count": 0,
          "min": "0",
          "max": "1",
          "histogram": [
           {
            "bin_start": 0,
            "bin_end": 0.1,
            "count": 4
           },
           {
            "bin_start": 0.1,
            "bin_end": 0.2,
            "count": 0
           },
           {
            "bin_start": 0.2,
            "bin_end": 0.30000000000000004,
            "count": 0
           },
           {
            "bin_start": 0.30000000000000004,
            "bin_end": 0.4,
            "count": 0
           },
           {
            "bin_start": 0.4,
            "bin_end": 0.5,
            "count": 0
           },
           {
            "bin_start": 0.5,
            "bin_end": 0.6000000000000001,
            "count": 0
           },
           {
            "bin_start": 0.6000000000000001,
            "bin_end": 0.7000000000000001,
            "count": 0
           },
           {
            "bin_start": 0.7000000000000001,
            "bin_end": 0.8,
            "count": 0
           },
           {
            "bin_start": 0.8,
            "bin_end": 0.9,
            "count": 0
           },
           {
            "bin_start": 0.9,
            "bin_end": 1,
            "count": 1
           }
          ]
         }
        },
        {
         "name": "Slapstick Humor - Scene Annotation",
         "dtype": "int64",
         "stats": {
          "unique_count": 1,
          "nan_count": 0,
          "min": "0",
          "max": "0",
          "histogram": [
           {
            "bin_start": -0.5,
            "bin_end": -0.4,
            "count": 0
           },
           {
            "bin_start": -0.4,
            "bin_end": -0.3,
            "count": 0
           },
           {
            "bin_start": -0.3,
            "bin_end": -0.19999999999999996,
            "count": 0
           },
           {
            "bin_start": -0.19999999999999996,
            "bin_end": -0.09999999999999998,
            "count": 0
           },
           {
            "bin_start": -0.09999999999999998,
            "bin_end": 0,
            "count": 0
           },
           {
            "bin_start": 0,
            "bin_end": 0.10000000000000009,
            "count": 5
           },
           {
            "bin_start": 0.10000000000000009,
            "bin_end": 0.20000000000000007,
            "count": 0
           },
           {
            "bin_start": 0.20000000000000007,
            "bin_end": 0.30000000000000004,
            "count": 0
           },
           {
            "bin_start": 0.30000000000000004,
            "bin_end": 0.4,
            "count": 0
           },
           {
            "bin_start": 0.4,
            "bin_end": 0.5,
            "count": 0
           }
          ]
         }
        },
        {
         "name": "Gory Humor - Scene Annotation",
         "dtype": "int64",
         "stats": {
          "unique_count": 2,
          "nan_count": 0,
          "min": "0",
          "max": "1",
          "histogram": [
           {
            "bin_start": 0,
            "bin_end": 0.1,
            "count": 4
           },
           {
            "bin_start": 0.1,
            "bin_end": 0.2,
            "count": 0
           },
           {
            "bin_start": 0.2,
            "bin_end": 0.30000000000000004,
            "count": 0
           },
           {
            "bin_start": 0.30000000000000004,
            "bin_end": 0.4,
            "count": 0
           },
           {
            "bin_start": 0.4,
            "bin_end": 0.5,
            "count": 0
           },
           {
            "bin_start": 0.5,
            "bin_end": 0.6000000000000001,
            "count": 0
           },
           {
            "bin_start": 0.6000000000000001,
            "bin_end": 0.7000000000000001,
            "count": 0
           },
           {
            "bin_start": 0.7000000000000001,
            "bin_end": 0.8,
            "count": 0
           },
           {
            "bin_start": 0.8,
            "bin_end": 0.9,
            "count": 0
           },
           {
            "bin_start": 0.9,
            "bin_end": 1,
            "count": 1
           }
          ]
         }
        },
        {
         "name": "Sarcasm - Scene Annotation",
         "dtype": "int64",
         "stats": {
          "unique_count": 1,
          "nan_count": 0,
          "min": "0",
          "max": "0",
          "histogram": [
           {
            "bin_start": -0.5,
            "bin_end": -0.4,
            "count": 0
           },
           {
            "bin_start": -0.4,
            "bin_end": -0.3,
            "count": 0
           },
           {
            "bin_start": -0.3,
            "bin_end": -0.19999999999999996,
            "count": 0
           },
           {
            "bin_start": -0.19999999999999996,
            "bin_end": -0.09999999999999998,
            "count": 0
           },
           {
            "bin_start": -0.09999999999999998,
            "bin_end": 0,
            "count": 0
           },
           {
            "bin_start": 0,
            "bin_end": 0.10000000000000009,
            "count": 5
           },
           {
            "bin_start": 0.10000000000000009,
            "bin_end": 0.20000000000000007,
            "count": 0
           },
           {
            "bin_start": 0.20000000000000007,
            "bin_end": 0.30000000000000004,
            "count": 0
           },
           {
            "bin_start": 0.30000000000000004,
            "bin_end": 0.4,
            "count": 0
           },
           {
            "bin_start": 0.4,
            "bin_end": 0.5,
            "count": 0
           }
          ]
         }
        },
        {
         "name": "combination",
         "dtype": "object",
         "stats": {
          "unique_count": 3,
          "nan_count": 0,
          "categories": [
           {
            "name": "0000",
            "count": 3
           },
           {
            "name": "0010",
            "count": 1
           },
           {
            "name": "1000",
            "count": 1
           }
          ]
         }
        },
        {
         "name": "path",
         "dtype": "object",
         "stats": {
          "unique_count": 5,
          "nan_count": 0,
          "categories": [
           {
            "name": "/work/train_data/tt2872718.00.mp4",
            "count": 1
           },
           {
            "name": "/work/train_data/tt2872718.01.mp4",
            "count": 1
           },
           {
            "name": "3 others",
            "count": 3
           }
          ]
         }
        },
        {
         "name": "_deepnote_index_column",
         "dtype": "int64"
        }
       ],
       "rows": [
        {
         "Video ID": "tt2872718",
         "Scene_ID": 0,
         "Video URL": " https://www.imdb.com/videoplayer/vi4179799833",
         "Codec": "h264",
         "Resolution": "854 x 480",
         "Avg Frame rate": 23.976023976024,
         "Mature Humor - Scene Annotation": 0,
         "Slapstick Humor - Scene Annotation": 0,
         "Gory Humor - Scene Annotation": 0,
         "Sarcasm - Scene Annotation": 0,
         "combination": "0000",
         "path": "/work/train_data/tt2872718.00.mp4",
         "_deepnote_index_column": 0
        },
        {
         "Video ID": "tt2872718",
         "Scene_ID": 1,
         "Video URL": " https://www.imdb.com/videoplayer/vi4179799833",
         "Codec": "h264",
         "Resolution": "854 x 480",
         "Avg Frame rate": 23.976023976024,
         "Mature Humor - Scene Annotation": 0,
         "Slapstick Humor - Scene Annotation": 0,
         "Gory Humor - Scene Annotation": 1,
         "Sarcasm - Scene Annotation": 0,
         "combination": "0010",
         "path": "/work/train_data/tt2872718.01.mp4",
         "_deepnote_index_column": 1
        },
        {
         "Video ID": "tt2788710",
         "Scene_ID": 0,
         "Video URL": " https://www.imdb.com/videoplayer/vi1114222361",
         "Codec": "h264",
         "Resolution": "854 x 480",
         "Avg Frame rate": 23.976023976024,
         "Mature Humor - Scene Annotation": 0,
         "Slapstick Humor - Scene Annotation": 0,
         "Gory Humor - Scene Annotation": 0,
         "Sarcasm - Scene Annotation": 0,
         "combination": "0000",
         "path": "/work/train_data/tt2788710.00.mp4",
         "_deepnote_index_column": 2
        },
        {
         "Video ID": "tt2788710",
         "Scene_ID": 1,
         "Video URL": " https://www.imdb.com/videoplayer/vi1114222361",
         "Codec": "h264",
         "Resolution": "854 x 480",
         "Avg Frame rate": 23.976023976024,
         "Mature Humor - Scene Annotation": 1,
         "Slapstick Humor - Scene Annotation": 0,
         "Gory Humor - Scene Annotation": 0,
         "Sarcasm - Scene Annotation": 0,
         "combination": "1000",
         "path": "/work/train_data/tt2788710.01.mp4",
         "_deepnote_index_column": 3
        },
        {
         "Video ID": "tt2788710",
         "Scene_ID": 2,
         "Video URL": " https://www.imdb.com/videoplayer/vi1114222361",
         "Codec": "h264",
         "Resolution": "854 x 480",
         "Avg Frame rate": 23.976023976024,
         "Mature Humor - Scene Annotation": 0,
         "Slapstick Humor - Scene Annotation": 0,
         "Gory Humor - Scene Annotation": 0,
         "Sarcasm - Scene Annotation": 0,
         "combination": "0000",
         "path": "/work/train_data/tt2788710.02.mp4",
         "_deepnote_index_column": 4
        }
       ]
      },
      "text/plain": "    Video ID  Scene_ID                                       Video URL Codec  \\\n0  tt2872718         0   https://www.imdb.com/videoplayer/vi4179799833  h264   \n1  tt2872718         1   https://www.imdb.com/videoplayer/vi4179799833  h264   \n2  tt2788710         0   https://www.imdb.com/videoplayer/vi1114222361  h264   \n3  tt2788710         1   https://www.imdb.com/videoplayer/vi1114222361  h264   \n4  tt2788710         2   https://www.imdb.com/videoplayer/vi1114222361  h264   \n\n  Resolution  Avg Frame rate  Mature Humor - Scene Annotation  \\\n0  854 x 480       23.976024                                0   \n1  854 x 480       23.976024                                0   \n2  854 x 480       23.976024                                0   \n3  854 x 480       23.976024                                1   \n4  854 x 480       23.976024                                0   \n\n   Slapstick Humor - Scene Annotation  Gory Humor - Scene Annotation  \\\n0                                   0                              0   \n1                                   0                              1   \n2                                   0                              0   \n3                                   0                              0   \n4                                   0                              0   \n\n   Sarcasm - Scene Annotation combination                               path  \n0                           0        0000  /work/train_data/tt2872718.00.mp4  \n1                           0        0010  /work/train_data/tt2872718.01.mp4  \n2                           0        0000  /work/train_data/tt2788710.00.mp4  \n3                           0        1000  /work/train_data/tt2788710.01.mp4  \n4                           0        0000  /work/train_data/tt2788710.02.mp4  ",
      "text/html": "<div>\n<style scoped>\n    .dataframe tbody tr th:only-of-type {\n        vertical-align: middle;\n    }\n\n    .dataframe tbody tr th {\n        vertical-align: top;\n    }\n\n    .dataframe thead th {\n        text-align: right;\n    }\n</style>\n<table border=\"1\" class=\"dataframe\">\n  <thead>\n    <tr style=\"text-align: right;\">\n      <th></th>\n      <th>Video ID</th>\n      <th>Scene_ID</th>\n      <th>Video URL</th>\n      <th>Codec</th>\n      <th>Resolution</th>\n      <th>Avg Frame rate</th>\n      <th>Mature Humor - Scene Annotation</th>\n      <th>Slapstick Humor - Scene Annotation</th>\n      <th>Gory Humor - Scene Annotation</th>\n      <th>Sarcasm - Scene Annotation</th>\n      <th>combination</th>\n      <th>path</th>\n    </tr>\n  </thead>\n  <tbody>\n    <tr>\n      <th>0</th>\n      <td>tt2872718</td>\n      <td>0</td>\n      <td>https://www.imdb.com/videoplayer/vi4179799833</td>\n      <td>h264</td>\n      <td>854 x 480</td>\n      <td>23.976024</td>\n      <td>0</td>\n      <td>0</td>\n      <td>0</td>\n      <td>0</td>\n      <td>0000</td>\n      <td>/work/train_data/tt2872718.00.mp4</td>\n    </tr>\n    <tr>\n      <th>1</th>\n      <td>tt2872718</td>\n      <td>1</td>\n      <td>https://www.imdb.com/videoplayer/vi4179799833</td>\n      <td>h264</td>\n      <td>854 x 480</td>\n      <td>23.976024</td>\n      <td>0</td>\n      <td>0</td>\n      <td>1</td>\n      <td>0</td>\n      <td>0010</td>\n      <td>/work/train_data/tt2872718.01.mp4</td>\n    </tr>\n    <tr>\n      <th>2</th>\n      <td>tt2788710</td>\n      <td>0</td>\n      <td>https://www.imdb.com/videoplayer/vi1114222361</td>\n      <td>h264</td>\n      <td>854 x 480</td>\n      <td>23.976024</td>\n      <td>0</td>\n      <td>0</td>\n      <td>0</td>\n      <td>0</td>\n      <td>0000</td>\n      <td>/work/train_data/tt2788710.00.mp4</td>\n    </tr>\n    <tr>\n      <th>3</th>\n      <td>tt2788710</td>\n      <td>1</td>\n      <td>https://www.imdb.com/videoplayer/vi1114222361</td>\n      <td>h264</td>\n      <td>854 x 480</td>\n      <td>23.976024</td>\n      <td>1</td>\n      <td>0</td>\n      <td>0</td>\n      <td>0</td>\n      <td>1000</td>\n      <td>/work/train_data/tt2788710.01.mp4</td>\n    </tr>\n    <tr>\n      <th>4</th>\n      <td>tt2788710</td>\n      <td>2</td>\n      <td>https://www.imdb.com/videoplayer/vi1114222361</td>\n      <td>h264</td>\n      <td>854 x 480</td>\n      <td>23.976024</td>\n      <td>0</td>\n      <td>0</td>\n      <td>0</td>\n      <td>0</td>\n      <td>0000</td>\n      <td>/work/train_data/tt2788710.02.mp4</td>\n    </tr>\n  </tbody>\n</table>\n</div>"
     },
     "metadata": {}
    }
   ]
  },
  {
   "cell_type": "code",
   "metadata": {
    "cell_id": "f080ba32-7528-4f94-98aa-0fd621590003",
    "tags": [],
    "deepnote_to_be_reexecuted": false,
    "source_hash": "b3c9ae0a",
    "execution_start": 1644814290089,
    "execution_millis": 70,
    "deepnote_cell_type": "code"
   },
   "source": "# Create a dataframe which contains multiclass classification content annotations for each video scene used in the validation set.\nval_df = pd.read_csv('val.csv', index_col=0, dtype={'combination': object})\nval_df[\"path\"] = val_dir + val_df[\"Video ID\"]+ \".0\" + val_df[\"Scene_ID\"].astype(str) + \".mp4\"\nval_df.head()",
   "execution_count": null,
   "outputs": [
    {
     "output_type": "execute_result",
     "execution_count": 7,
     "data": {
      "application/vnd.deepnote.dataframe.v3+json": {
       "column_count": 12,
       "row_count": 5,
       "columns": [
        {
         "name": "Video ID",
         "dtype": "object",
         "stats": {
          "unique_count": 2,
          "nan_count": 0,
          "categories": [
           {
            "name": "tt1308728",
            "count": 3
           },
           {
            "name": "PGuqnE35cCg",
            "count": 2
           }
          ]
         }
        },
        {
         "name": "Scene_ID",
         "dtype": "int64",
         "stats": {
          "unique_count": 3,
          "nan_count": 0,
          "min": "0",
          "max": "2",
          "histogram": [
           {
            "bin_start": 0,
            "bin_end": 0.2,
            "count": 2
           },
           {
            "bin_start": 0.2,
            "bin_end": 0.4,
            "count": 0
           },
           {
            "bin_start": 0.4,
            "bin_end": 0.6000000000000001,
            "count": 0
           },
           {
            "bin_start": 0.6000000000000001,
            "bin_end": 0.8,
            "count": 0
           },
           {
            "bin_start": 0.8,
            "bin_end": 1,
            "count": 0
           },
           {
            "bin_start": 1,
            "bin_end": 1.2000000000000002,
            "count": 2
           },
           {
            "bin_start": 1.2000000000000002,
            "bin_end": 1.4000000000000001,
            "count": 0
           },
           {
            "bin_start": 1.4000000000000001,
            "bin_end": 1.6,
            "count": 0
           },
           {
            "bin_start": 1.6,
            "bin_end": 1.8,
            "count": 0
           },
           {
            "bin_start": 1.8,
            "bin_end": 2,
            "count": 1
           }
          ]
         }
        },
        {
         "name": "Video URL",
         "dtype": "object",
         "stats": {
          "unique_count": 2,
          "nan_count": 0,
          "categories": [
           {
            "name": " https://www.youtube.com/watch?v=QP9qbhTeBII",
            "count": 3
           },
           {
            "name": " https://www.youtube.com/watch?v=PGuqnE35cCg",
            "count": 2
           }
          ]
         }
        },
        {
         "name": "Codec",
         "dtype": "object",
         "stats": {
          "unique_count": 1,
          "nan_count": 0,
          "categories": [
           {
            "name": "h264",
            "count": 5
           }
          ]
         }
        },
        {
         "name": "Resolution",
         "dtype": "object",
         "stats": {
          "unique_count": 1,
          "nan_count": 0,
          "categories": [
           {
            "name": "640 x 360",
            "count": 5
           }
          ]
         }
        },
        {
         "name": "Avg Frame rate",
         "dtype": "float64",
         "stats": {
          "unique_count": 2,
          "nan_count": 0,
          "min": "23.9759449265423",
          "max": "23.976023976024",
          "histogram": [
           {
            "bin_start": 23.9759449265423,
            "bin_end": 23.97595283149047,
            "count": 3
           },
           {
            "bin_start": 23.97595283149047,
            "bin_end": 23.97596073643864,
            "count": 0
           },
           {
            "bin_start": 23.97596073643864,
            "bin_end": 23.97596864138681,
            "count": 0
           },
           {
            "bin_start": 23.97596864138681,
            "bin_end": 23.97597654633498,
            "count": 0
           },
           {
            "bin_start": 23.97597654633498,
            "bin_end": 23.97598445128315,
            "count": 0
           },
           {
            "bin_start": 23.97598445128315,
            "bin_end": 23.97599235623132,
            "count": 0
           },
           {
            "bin_start": 23.97599235623132,
            "bin_end": 23.97600026117949,
            "count": 0
           },
           {
            "bin_start": 23.97600026117949,
            "bin_end": 23.97600816612766,
            "count": 0
           },
           {
            "bin_start": 23.97600816612766,
            "bin_end": 23.97601607107583,
            "count": 0
           },
           {
            "bin_start": 23.97601607107583,
            "bin_end": 23.976023976024,
            "count": 2
           }
          ]
         }
        },
        {
         "name": "Mature Humor - Scene Annotation",
         "dtype": "int64",
         "stats": {
          "unique_count": 1,
          "nan_count": 0,
          "min": "1",
          "max": "1",
          "histogram": [
           {
            "bin_start": 0.5,
            "bin_end": 0.6,
            "count": 0
           },
           {
            "bin_start": 0.6,
            "bin_end": 0.7,
            "count": 0
           },
           {
            "bin_start": 0.7,
            "bin_end": 0.8,
            "count": 0
           },
           {
            "bin_start": 0.8,
            "bin_end": 0.9,
            "count": 0
           },
           {
            "bin_start": 0.9,
            "bin_end": 1,
            "count": 0
           },
           {
            "bin_start": 1,
            "bin_end": 1.1,
            "count": 5
           },
           {
            "bin_start": 1.1,
            "bin_end": 1.2000000000000002,
            "count": 0
           },
           {
            "bin_start": 1.2000000000000002,
            "bin_end": 1.3,
            "count": 0
           },
           {
            "bin_start": 1.3,
            "bin_end": 1.4,
            "count": 0
           },
           {
            "bin_start": 1.4,
            "bin_end": 1.5,
            "count": 0
           }
          ]
         }
        },
        {
         "name": "Slapstick Humor - Scene Annotation",
         "dtype": "int64",
         "stats": {
          "unique_count": 2,
          "nan_count": 0,
          "min": "0",
          "max": "1",
          "histogram": [
           {
            "bin_start": 0,
            "bin_end": 0.1,
            "count": 4
           },
           {
            "bin_start": 0.1,
            "bin_end": 0.2,
            "count": 0
           },
           {
            "bin_start": 0.2,
            "bin_end": 0.30000000000000004,
            "count": 0
           },
           {
            "bin_start": 0.30000000000000004,
            "bin_end": 0.4,
            "count": 0
           },
           {
            "bin_start": 0.4,
            "bin_end": 0.5,
            "count": 0
           },
           {
            "bin_start": 0.5,
            "bin_end": 0.6000000000000001,
            "count": 0
           },
           {
            "bin_start": 0.6000000000000001,
            "bin_end": 0.7000000000000001,
            "count": 0
           },
           {
            "bin_start": 0.7000000000000001,
            "bin_end": 0.8,
            "count": 0
           },
           {
            "bin_start": 0.8,
            "bin_end": 0.9,
            "count": 0
           },
           {
            "bin_start": 0.9,
            "bin_end": 1,
            "count": 1
           }
          ]
         }
        },
        {
         "name": "Gory Humor - Scene Annotation",
         "dtype": "int64",
         "stats": {
          "unique_count": 1,
          "nan_count": 0,
          "min": "0",
          "max": "0",
          "histogram": [
           {
            "bin_start": -0.5,
            "bin_end": -0.4,
            "count": 0
           },
           {
            "bin_start": -0.4,
            "bin_end": -0.3,
            "count": 0
           },
           {
            "bin_start": -0.3,
            "bin_end": -0.19999999999999996,
            "count": 0
           },
           {
            "bin_start": -0.19999999999999996,
            "bin_end": -0.09999999999999998,
            "count": 0
           },
           {
            "bin_start": -0.09999999999999998,
            "bin_end": 0,
            "count": 0
           },
           {
            "bin_start": 0,
            "bin_end": 0.10000000000000009,
            "count": 5
           },
           {
            "bin_start": 0.10000000000000009,
            "bin_end": 0.20000000000000007,
            "count": 0
           },
           {
            "bin_start": 0.20000000000000007,
            "bin_end": 0.30000000000000004,
            "count": 0
           },
           {
            "bin_start": 0.30000000000000004,
            "bin_end": 0.4,
            "count": 0
           },
           {
            "bin_start": 0.4,
            "bin_end": 0.5,
            "count": 0
           }
          ]
         }
        },
        {
         "name": "Sarcasm - Scene Annotation",
         "dtype": "int64",
         "stats": {
          "unique_count": 1,
          "nan_count": 0,
          "min": "0",
          "max": "0",
          "histogram": [
           {
            "bin_start": -0.5,
            "bin_end": -0.4,
            "count": 0
           },
           {
            "bin_start": -0.4,
            "bin_end": -0.3,
            "count": 0
           },
           {
            "bin_start": -0.3,
            "bin_end": -0.19999999999999996,
            "count": 0
           },
           {
            "bin_start": -0.19999999999999996,
            "bin_end": -0.09999999999999998,
            "count": 0
           },
           {
            "bin_start": -0.09999999999999998,
            "bin_end": 0,
            "count": 0
           },
           {
            "bin_start": 0,
            "bin_end": 0.10000000000000009,
            "count": 5
           },
           {
            "bin_start": 0.10000000000000009,
            "bin_end": 0.20000000000000007,
            "count": 0
           },
           {
            "bin_start": 0.20000000000000007,
            "bin_end": 0.30000000000000004,
            "count": 0
           },
           {
            "bin_start": 0.30000000000000004,
            "bin_end": 0.4,
            "count": 0
           },
           {
            "bin_start": 0.4,
            "bin_end": 0.5,
            "count": 0
           }
          ]
         }
        },
        {
         "name": "combination",
         "dtype": "object",
         "stats": {
          "unique_count": 2,
          "nan_count": 0,
          "categories": [
           {
            "name": "1000",
            "count": 4
           },
           {
            "name": "1100",
            "count": 1
           }
          ]
         }
        },
        {
         "name": "path",
         "dtype": "object",
         "stats": {
          "unique_count": 5,
          "nan_count": 0,
          "categories": [
           {
            "name": "/work/val_data/tt1308728.00.mp4",
            "count": 1
           },
           {
            "name": "/work/val_data/tt1308728.01.mp4",
            "count": 1
           },
           {
            "name": "3 others",
            "count": 3
           }
          ]
         }
        },
        {
         "name": "_deepnote_index_column",
         "dtype": "int64"
        }
       ],
       "rows": [
        {
         "Video ID": "tt1308728",
         "Scene_ID": 0,
         "Video URL": " https://www.youtube.com/watch?v=QP9qbhTeBII",
         "Codec": "h264",
         "Resolution": "640 x 360",
         "Avg Frame rate": 23.9759449265423,
         "Mature Humor - Scene Annotation": 1,
         "Slapstick Humor - Scene Annotation": 0,
         "Gory Humor - Scene Annotation": 0,
         "Sarcasm - Scene Annotation": 0,
         "combination": "1000",
         "path": "/work/val_data/tt1308728.00.mp4",
         "_deepnote_index_column": 21
        },
        {
         "Video ID": "tt1308728",
         "Scene_ID": 1,
         "Video URL": " https://www.youtube.com/watch?v=QP9qbhTeBII",
         "Codec": "h264",
         "Resolution": "640 x 360",
         "Avg Frame rate": 23.9759449265423,
         "Mature Humor - Scene Annotation": 1,
         "Slapstick Humor - Scene Annotation": 1,
         "Gory Humor - Scene Annotation": 0,
         "Sarcasm - Scene Annotation": 0,
         "combination": "1100",
         "path": "/work/val_data/tt1308728.01.mp4",
         "_deepnote_index_column": 22
        },
        {
         "Video ID": "tt1308728",
         "Scene_ID": 2,
         "Video URL": " https://www.youtube.com/watch?v=QP9qbhTeBII",
         "Codec": "h264",
         "Resolution": "640 x 360",
         "Avg Frame rate": 23.9759449265423,
         "Mature Humor - Scene Annotation": 1,
         "Slapstick Humor - Scene Annotation": 0,
         "Gory Humor - Scene Annotation": 0,
         "Sarcasm - Scene Annotation": 0,
         "combination": "1000",
         "path": "/work/val_data/tt1308728.02.mp4",
         "_deepnote_index_column": 23
        },
        {
         "Video ID": "PGuqnE35cCg",
         "Scene_ID": 0,
         "Video URL": " https://www.youtube.com/watch?v=PGuqnE35cCg",
         "Codec": "h264",
         "Resolution": "640 x 360",
         "Avg Frame rate": 23.976023976024,
         "Mature Humor - Scene Annotation": 1,
         "Slapstick Humor - Scene Annotation": 0,
         "Gory Humor - Scene Annotation": 0,
         "Sarcasm - Scene Annotation": 0,
         "combination": "1000",
         "path": "/work/val_data/PGuqnE35cCg.00.mp4",
         "_deepnote_index_column": 30
        },
        {
         "Video ID": "PGuqnE35cCg",
         "Scene_ID": 1,
         "Video URL": " https://www.youtube.com/watch?v=PGuqnE35cCg",
         "Codec": "h264",
         "Resolution": "640 x 360",
         "Avg Frame rate": 23.976023976024,
         "Mature Humor - Scene Annotation": 1,
         "Slapstick Humor - Scene Annotation": 0,
         "Gory Humor - Scene Annotation": 0,
         "Sarcasm - Scene Annotation": 0,
         "combination": "1000",
         "path": "/work/val_data/PGuqnE35cCg.01.mp4",
         "_deepnote_index_column": 31
        }
       ]
      },
      "text/plain": "       Video ID  Scene_ID                                     Video URL Codec  \\\n21    tt1308728         0   https://www.youtube.com/watch?v=QP9qbhTeBII  h264   \n22    tt1308728         1   https://www.youtube.com/watch?v=QP9qbhTeBII  h264   \n23    tt1308728         2   https://www.youtube.com/watch?v=QP9qbhTeBII  h264   \n30  PGuqnE35cCg         0   https://www.youtube.com/watch?v=PGuqnE35cCg  h264   \n31  PGuqnE35cCg         1   https://www.youtube.com/watch?v=PGuqnE35cCg  h264   \n\n   Resolution  Avg Frame rate  Mature Humor - Scene Annotation  \\\n21  640 x 360       23.975945                                1   \n22  640 x 360       23.975945                                1   \n23  640 x 360       23.975945                                1   \n30  640 x 360       23.976024                                1   \n31  640 x 360       23.976024                                1   \n\n    Slapstick Humor - Scene Annotation  Gory Humor - Scene Annotation  \\\n21                                   0                              0   \n22                                   1                              0   \n23                                   0                              0   \n30                                   0                              0   \n31                                   0                              0   \n\n    Sarcasm - Scene Annotation combination                               path  \n21                           0        1000    /work/val_data/tt1308728.00.mp4  \n22                           0        1100    /work/val_data/tt1308728.01.mp4  \n23                           0        1000    /work/val_data/tt1308728.02.mp4  \n30                           0        1000  /work/val_data/PGuqnE35cCg.00.mp4  \n31                           0        1000  /work/val_data/PGuqnE35cCg.01.mp4  ",
      "text/html": "<div>\n<style scoped>\n    .dataframe tbody tr th:only-of-type {\n        vertical-align: middle;\n    }\n\n    .dataframe tbody tr th {\n        vertical-align: top;\n    }\n\n    .dataframe thead th {\n        text-align: right;\n    }\n</style>\n<table border=\"1\" class=\"dataframe\">\n  <thead>\n    <tr style=\"text-align: right;\">\n      <th></th>\n      <th>Video ID</th>\n      <th>Scene_ID</th>\n      <th>Video URL</th>\n      <th>Codec</th>\n      <th>Resolution</th>\n      <th>Avg Frame rate</th>\n      <th>Mature Humor - Scene Annotation</th>\n      <th>Slapstick Humor - Scene Annotation</th>\n      <th>Gory Humor - Scene Annotation</th>\n      <th>Sarcasm - Scene Annotation</th>\n      <th>combination</th>\n      <th>path</th>\n    </tr>\n  </thead>\n  <tbody>\n    <tr>\n      <th>21</th>\n      <td>tt1308728</td>\n      <td>0</td>\n      <td>https://www.youtube.com/watch?v=QP9qbhTeBII</td>\n      <td>h264</td>\n      <td>640 x 360</td>\n      <td>23.975945</td>\n      <td>1</td>\n      <td>0</td>\n      <td>0</td>\n      <td>0</td>\n      <td>1000</td>\n      <td>/work/val_data/tt1308728.00.mp4</td>\n    </tr>\n    <tr>\n      <th>22</th>\n      <td>tt1308728</td>\n      <td>1</td>\n      <td>https://www.youtube.com/watch?v=QP9qbhTeBII</td>\n      <td>h264</td>\n      <td>640 x 360</td>\n      <td>23.975945</td>\n      <td>1</td>\n      <td>1</td>\n      <td>0</td>\n      <td>0</td>\n      <td>1100</td>\n      <td>/work/val_data/tt1308728.01.mp4</td>\n    </tr>\n    <tr>\n      <th>23</th>\n      <td>tt1308728</td>\n      <td>2</td>\n      <td>https://www.youtube.com/watch?v=QP9qbhTeBII</td>\n      <td>h264</td>\n      <td>640 x 360</td>\n      <td>23.975945</td>\n      <td>1</td>\n      <td>0</td>\n      <td>0</td>\n      <td>0</td>\n      <td>1000</td>\n      <td>/work/val_data/tt1308728.02.mp4</td>\n    </tr>\n    <tr>\n      <th>30</th>\n      <td>PGuqnE35cCg</td>\n      <td>0</td>\n      <td>https://www.youtube.com/watch?v=PGuqnE35cCg</td>\n      <td>h264</td>\n      <td>640 x 360</td>\n      <td>23.976024</td>\n      <td>1</td>\n      <td>0</td>\n      <td>0</td>\n      <td>0</td>\n      <td>1000</td>\n      <td>/work/val_data/PGuqnE35cCg.00.mp4</td>\n    </tr>\n    <tr>\n      <th>31</th>\n      <td>PGuqnE35cCg</td>\n      <td>1</td>\n      <td>https://www.youtube.com/watch?v=PGuqnE35cCg</td>\n      <td>h264</td>\n      <td>640 x 360</td>\n      <td>23.976024</td>\n      <td>1</td>\n      <td>0</td>\n      <td>0</td>\n      <td>0</td>\n      <td>1000</td>\n      <td>/work/val_data/PGuqnE35cCg.01.mp4</td>\n    </tr>\n  </tbody>\n</table>\n</div>"
     },
     "metadata": {}
    }
   ]
  },
  {
   "cell_type": "code",
   "metadata": {
    "cell_id": "e2e0a169-b660-4bc0-b85d-e226eb0efde2",
    "tags": [],
    "deepnote_to_be_reexecuted": false,
    "source_hash": "8b166588",
    "execution_start": 1644814291719,
    "execution_millis": 81,
    "deepnote_cell_type": "code"
   },
   "source": "# Create a dataframe which contains multiclass classification content annotations for each video scene used in the test set.\ntest_df = pd.read_csv('test.csv', index_col=0, dtype={'combination': object})\ntest_df[\"path\"] = test_dir + test_df[\"Video ID\"]+ \".0\" + test_df[\"Scene_ID\"].astype(str) + \".mp4\"\ntest_df.head()",
   "execution_count": null,
   "outputs": [
    {
     "output_type": "execute_result",
     "execution_count": 8,
     "data": {
      "application/vnd.deepnote.dataframe.v3+json": {
       "column_count": 12,
       "row_count": 5,
       "columns": [
        {
         "name": "Video ID",
         "dtype": "object",
         "stats": {
          "unique_count": 2,
          "nan_count": 0,
          "categories": [
           {
            "name": "tt1723121",
            "count": 3
           },
           {
            "name": "tt1741243",
            "count": 2
           }
          ]
         }
        },
        {
         "name": "Scene_ID",
         "dtype": "int64",
         "stats": {
          "unique_count": 3,
          "nan_count": 0,
          "min": "0",
          "max": "2",
          "histogram": [
           {
            "bin_start": 0,
            "bin_end": 0.2,
            "count": 2
           },
           {
            "bin_start": 0.2,
            "bin_end": 0.4,
            "count": 0
           },
           {
            "bin_start": 0.4,
            "bin_end": 0.6000000000000001,
            "count": 0
           },
           {
            "bin_start": 0.6000000000000001,
            "bin_end": 0.8,
            "count": 0
           },
           {
            "bin_start": 0.8,
            "bin_end": 1,
            "count": 0
           },
           {
            "bin_start": 1,
            "bin_end": 1.2000000000000002,
            "count": 2
           },
           {
            "bin_start": 1.2000000000000002,
            "bin_end": 1.4000000000000001,
            "count": 0
           },
           {
            "bin_start": 1.4000000000000001,
            "bin_end": 1.6,
            "count": 0
           },
           {
            "bin_start": 1.6,
            "bin_end": 1.8,
            "count": 0
           },
           {
            "bin_start": 1.8,
            "bin_end": 2,
            "count": 1
           }
          ]
         }
        },
        {
         "name": "Video URL",
         "dtype": "object",
         "stats": {
          "unique_count": 2,
          "nan_count": 0,
          "categories": [
           {
            "name": " https://www.youtube.com/watch?v=O7NHfAzg7Yg",
            "count": 3
           },
           {
            "name": " https://www.imdb.com/videoplayer/vi2169153049",
            "count": 2
           }
          ]
         }
        },
        {
         "name": "Codec",
         "dtype": "object",
         "stats": {
          "unique_count": 1,
          "nan_count": 0,
          "categories": [
           {
            "name": "h264",
            "count": 5
           }
          ]
         }
        },
        {
         "name": "Resolution",
         "dtype": "object",
         "stats": {
          "unique_count": 2,
          "nan_count": 0,
          "categories": [
           {
            "name": "640 x 360",
            "count": 3
           },
           {
            "name": "534 x 360",
            "count": 2
           }
          ]
         }
        },
        {
         "name": "Avg Frame rate",
         "dtype": "float64",
         "stats": {
          "unique_count": 2,
          "nan_count": 0,
          "min": "23.976023976024",
          "max": "29.97",
          "histogram": [
           {
            "bin_start": 23.976023976024,
            "bin_end": 24.575421578421597,
            "count": 3
           },
           {
            "bin_start": 24.575421578421597,
            "bin_end": 25.1748191808192,
            "count": 0
           },
           {
            "bin_start": 25.1748191808192,
            "bin_end": 25.7742167832168,
            "count": 0
           },
           {
            "bin_start": 25.7742167832168,
            "bin_end": 26.3736143856144,
            "count": 0
           },
           {
            "bin_start": 26.3736143856144,
            "bin_end": 26.973011988011997,
            "count": 0
           },
           {
            "bin_start": 26.973011988011997,
            "bin_end": 27.5724095904096,
            "count": 0
           },
           {
            "bin_start": 27.5724095904096,
            "bin_end": 28.1718071928072,
            "count": 0
           },
           {
            "bin_start": 28.1718071928072,
            "bin_end": 28.7712047952048,
            "count": 0
           },
           {
            "bin_start": 28.7712047952048,
            "bin_end": 29.370602397602397,
            "count": 0
           },
           {
            "bin_start": 29.370602397602397,
            "bin_end": 29.97,
            "count": 2
           }
          ]
         }
        },
        {
         "name": "Mature Humor - Scene Annotation",
         "dtype": "int64",
         "stats": {
          "unique_count": 2,
          "nan_count": 0,
          "min": "0",
          "max": "1",
          "histogram": [
           {
            "bin_start": 0,
            "bin_end": 0.1,
            "count": 1
           },
           {
            "bin_start": 0.1,
            "bin_end": 0.2,
            "count": 0
           },
           {
            "bin_start": 0.2,
            "bin_end": 0.30000000000000004,
            "count": 0
           },
           {
            "bin_start": 0.30000000000000004,
            "bin_end": 0.4,
            "count": 0
           },
           {
            "bin_start": 0.4,
            "bin_end": 0.5,
            "count": 0
           },
           {
            "bin_start": 0.5,
            "bin_end": 0.6000000000000001,
            "count": 0
           },
           {
            "bin_start": 0.6000000000000001,
            "bin_end": 0.7000000000000001,
            "count": 0
           },
           {
            "bin_start": 0.7000000000000001,
            "bin_end": 0.8,
            "count": 0
           },
           {
            "bin_start": 0.8,
            "bin_end": 0.9,
            "count": 0
           },
           {
            "bin_start": 0.9,
            "bin_end": 1,
            "count": 4
           }
          ]
         }
        },
        {
         "name": "Slapstick Humor - Scene Annotation",
         "dtype": "int64",
         "stats": {
          "unique_count": 2,
          "nan_count": 0,
          "min": "0",
          "max": "1",
          "histogram": [
           {
            "bin_start": 0,
            "bin_end": 0.1,
            "count": 4
           },
           {
            "bin_start": 0.1,
            "bin_end": 0.2,
            "count": 0
           },
           {
            "bin_start": 0.2,
            "bin_end": 0.30000000000000004,
            "count": 0
           },
           {
            "bin_start": 0.30000000000000004,
            "bin_end": 0.4,
            "count": 0
           },
           {
            "bin_start": 0.4,
            "bin_end": 0.5,
            "count": 0
           },
           {
            "bin_start": 0.5,
            "bin_end": 0.6000000000000001,
            "count": 0
           },
           {
            "bin_start": 0.6000000000000001,
            "bin_end": 0.7000000000000001,
            "count": 0
           },
           {
            "bin_start": 0.7000000000000001,
            "bin_end": 0.8,
            "count": 0
           },
           {
            "bin_start": 0.8,
            "bin_end": 0.9,
            "count": 0
           },
           {
            "bin_start": 0.9,
            "bin_end": 1,
            "count": 1
           }
          ]
         }
        },
        {
         "name": "Gory Humor - Scene Annotation",
         "dtype": "int64",
         "stats": {
          "unique_count": 2,
          "nan_count": 0,
          "min": "0",
          "max": "1",
          "histogram": [
           {
            "bin_start": 0,
            "bin_end": 0.1,
            "count": 4
           },
           {
            "bin_start": 0.1,
            "bin_end": 0.2,
            "count": 0
           },
           {
            "bin_start": 0.2,
            "bin_end": 0.30000000000000004,
            "count": 0
           },
           {
            "bin_start": 0.30000000000000004,
            "bin_end": 0.4,
            "count": 0
           },
           {
            "bin_start": 0.4,
            "bin_end": 0.5,
            "count": 0
           },
           {
            "bin_start": 0.5,
            "bin_end": 0.6000000000000001,
            "count": 0
           },
           {
            "bin_start": 0.6000000000000001,
            "bin_end": 0.7000000000000001,
            "count": 0
           },
           {
            "bin_start": 0.7000000000000001,
            "bin_end": 0.8,
            "count": 0
           },
           {
            "bin_start": 0.8,
            "bin_end": 0.9,
            "count": 0
           },
           {
            "bin_start": 0.9,
            "bin_end": 1,
            "count": 1
           }
          ]
         }
        },
        {
         "name": "Sarcasm - Scene Annotation",
         "dtype": "int64",
         "stats": {
          "unique_count": 1,
          "nan_count": 0,
          "min": "0",
          "max": "0",
          "histogram": [
           {
            "bin_start": -0.5,
            "bin_end": -0.4,
            "count": 0
           },
           {
            "bin_start": -0.4,
            "bin_end": -0.3,
            "count": 0
           },
           {
            "bin_start": -0.3,
            "bin_end": -0.19999999999999996,
            "count": 0
           },
           {
            "bin_start": -0.19999999999999996,
            "bin_end": -0.09999999999999998,
            "count": 0
           },
           {
            "bin_start": -0.09999999999999998,
            "bin_end": 0,
            "count": 0
           },
           {
            "bin_start": 0,
            "bin_end": 0.10000000000000009,
            "count": 5
           },
           {
            "bin_start": 0.10000000000000009,
            "bin_end": 0.20000000000000007,
            "count": 0
           },
           {
            "bin_start": 0.20000000000000007,
            "bin_end": 0.30000000000000004,
            "count": 0
           },
           {
            "bin_start": 0.30000000000000004,
            "bin_end": 0.4,
            "count": 0
           },
           {
            "bin_start": 0.4,
            "bin_end": 0.5,
            "count": 0
           }
          ]
         }
        },
        {
         "name": "combination",
         "dtype": "object",
         "stats": {
          "unique_count": 2,
          "nan_count": 0,
          "categories": [
           {
            "name": "1000",
            "count": 4
           },
           {
            "name": "0110",
            "count": 1
           }
          ]
         }
        },
        {
         "name": "path",
         "dtype": "object",
         "stats": {
          "unique_count": 5,
          "nan_count": 0,
          "categories": [
           {
            "name": "/work/test_data/tt1741243.00.mp4",
            "count": 1
           },
           {
            "name": "/work/test_data/tt1741243.01.mp4",
            "count": 1
           },
           {
            "name": "3 others",
            "count": 3
           }
          ]
         }
        },
        {
         "name": "_deepnote_index_column",
         "dtype": "int64"
        }
       ],
       "rows": [
        {
         "Video ID": "tt1741243",
         "Scene_ID": 0,
         "Video URL": " https://www.imdb.com/videoplayer/vi2169153049",
         "Codec": "h264",
         "Resolution": "534 x 360",
         "Avg Frame rate": 29.97,
         "Mature Humor - Scene Annotation": 1,
         "Slapstick Humor - Scene Annotation": 0,
         "Gory Humor - Scene Annotation": 0,
         "Sarcasm - Scene Annotation": 0,
         "combination": "1000",
         "path": "/work/test_data/tt1741243.00.mp4",
         "_deepnote_index_column": 13
        },
        {
         "Video ID": "tt1741243",
         "Scene_ID": 1,
         "Video URL": " https://www.imdb.com/videoplayer/vi2169153049",
         "Codec": "h264",
         "Resolution": "534 x 360",
         "Avg Frame rate": 29.97,
         "Mature Humor - Scene Annotation": 0,
         "Slapstick Humor - Scene Annotation": 1,
         "Gory Humor - Scene Annotation": 1,
         "Sarcasm - Scene Annotation": 0,
         "combination": "0110",
         "path": "/work/test_data/tt1741243.01.mp4",
         "_deepnote_index_column": 14
        },
        {
         "Video ID": "tt1723121",
         "Scene_ID": 0,
         "Video URL": " https://www.youtube.com/watch?v=O7NHfAzg7Yg",
         "Codec": "h264",
         "Resolution": "640 x 360",
         "Avg Frame rate": 23.976023976024,
         "Mature Humor - Scene Annotation": 1,
         "Slapstick Humor - Scene Annotation": 0,
         "Gory Humor - Scene Annotation": 0,
         "Sarcasm - Scene Annotation": 0,
         "combination": "1000",
         "path": "/work/test_data/tt1723121.00.mp4",
         "_deepnote_index_column": 15
        },
        {
         "Video ID": "tt1723121",
         "Scene_ID": 1,
         "Video URL": " https://www.youtube.com/watch?v=O7NHfAzg7Yg",
         "Codec": "h264",
         "Resolution": "640 x 360",
         "Avg Frame rate": 23.976023976024,
         "Mature Humor - Scene Annotation": 1,
         "Slapstick Humor - Scene Annotation": 0,
         "Gory Humor - Scene Annotation": 0,
         "Sarcasm - Scene Annotation": 0,
         "combination": "1000",
         "path": "/work/test_data/tt1723121.01.mp4",
         "_deepnote_index_column": 16
        },
        {
         "Video ID": "tt1723121",
         "Scene_ID": 2,
         "Video URL": " https://www.youtube.com/watch?v=O7NHfAzg7Yg",
         "Codec": "h264",
         "Resolution": "640 x 360",
         "Avg Frame rate": 23.976023976024,
         "Mature Humor - Scene Annotation": 1,
         "Slapstick Humor - Scene Annotation": 0,
         "Gory Humor - Scene Annotation": 0,
         "Sarcasm - Scene Annotation": 0,
         "combination": "1000",
         "path": "/work/test_data/tt1723121.02.mp4",
         "_deepnote_index_column": 17
        }
       ]
      },
      "text/plain": "     Video ID  Scene_ID                                       Video URL Codec  \\\n13  tt1741243         0   https://www.imdb.com/videoplayer/vi2169153049  h264   \n14  tt1741243         1   https://www.imdb.com/videoplayer/vi2169153049  h264   \n15  tt1723121         0     https://www.youtube.com/watch?v=O7NHfAzg7Yg  h264   \n16  tt1723121         1     https://www.youtube.com/watch?v=O7NHfAzg7Yg  h264   \n17  tt1723121         2     https://www.youtube.com/watch?v=O7NHfAzg7Yg  h264   \n\n   Resolution  Avg Frame rate  Mature Humor - Scene Annotation  \\\n13  534 x 360       29.970000                                1   \n14  534 x 360       29.970000                                0   \n15  640 x 360       23.976024                                1   \n16  640 x 360       23.976024                                1   \n17  640 x 360       23.976024                                1   \n\n    Slapstick Humor - Scene Annotation  Gory Humor - Scene Annotation  \\\n13                                   0                              0   \n14                                   1                              1   \n15                                   0                              0   \n16                                   0                              0   \n17                                   0                              0   \n\n    Sarcasm - Scene Annotation combination                              path  \n13                           0        1000  /work/test_data/tt1741243.00.mp4  \n14                           0        0110  /work/test_data/tt1741243.01.mp4  \n15                           0        1000  /work/test_data/tt1723121.00.mp4  \n16                           0        1000  /work/test_data/tt1723121.01.mp4  \n17                           0        1000  /work/test_data/tt1723121.02.mp4  ",
      "text/html": "<div>\n<style scoped>\n    .dataframe tbody tr th:only-of-type {\n        vertical-align: middle;\n    }\n\n    .dataframe tbody tr th {\n        vertical-align: top;\n    }\n\n    .dataframe thead th {\n        text-align: right;\n    }\n</style>\n<table border=\"1\" class=\"dataframe\">\n  <thead>\n    <tr style=\"text-align: right;\">\n      <th></th>\n      <th>Video ID</th>\n      <th>Scene_ID</th>\n      <th>Video URL</th>\n      <th>Codec</th>\n      <th>Resolution</th>\n      <th>Avg Frame rate</th>\n      <th>Mature Humor - Scene Annotation</th>\n      <th>Slapstick Humor - Scene Annotation</th>\n      <th>Gory Humor - Scene Annotation</th>\n      <th>Sarcasm - Scene Annotation</th>\n      <th>combination</th>\n      <th>path</th>\n    </tr>\n  </thead>\n  <tbody>\n    <tr>\n      <th>13</th>\n      <td>tt1741243</td>\n      <td>0</td>\n      <td>https://www.imdb.com/videoplayer/vi2169153049</td>\n      <td>h264</td>\n      <td>534 x 360</td>\n      <td>29.970000</td>\n      <td>1</td>\n      <td>0</td>\n      <td>0</td>\n      <td>0</td>\n      <td>1000</td>\n      <td>/work/test_data/tt1741243.00.mp4</td>\n    </tr>\n    <tr>\n      <th>14</th>\n      <td>tt1741243</td>\n      <td>1</td>\n      <td>https://www.imdb.com/videoplayer/vi2169153049</td>\n      <td>h264</td>\n      <td>534 x 360</td>\n      <td>29.970000</td>\n      <td>0</td>\n      <td>1</td>\n      <td>1</td>\n      <td>0</td>\n      <td>0110</td>\n      <td>/work/test_data/tt1741243.01.mp4</td>\n    </tr>\n    <tr>\n      <th>15</th>\n      <td>tt1723121</td>\n      <td>0</td>\n      <td>https://www.youtube.com/watch?v=O7NHfAzg7Yg</td>\n      <td>h264</td>\n      <td>640 x 360</td>\n      <td>23.976024</td>\n      <td>1</td>\n      <td>0</td>\n      <td>0</td>\n      <td>0</td>\n      <td>1000</td>\n      <td>/work/test_data/tt1723121.00.mp4</td>\n    </tr>\n    <tr>\n      <th>16</th>\n      <td>tt1723121</td>\n      <td>1</td>\n      <td>https://www.youtube.com/watch?v=O7NHfAzg7Yg</td>\n      <td>h264</td>\n      <td>640 x 360</td>\n      <td>23.976024</td>\n      <td>1</td>\n      <td>0</td>\n      <td>0</td>\n      <td>0</td>\n      <td>1000</td>\n      <td>/work/test_data/tt1723121.01.mp4</td>\n    </tr>\n    <tr>\n      <th>17</th>\n      <td>tt1723121</td>\n      <td>2</td>\n      <td>https://www.youtube.com/watch?v=O7NHfAzg7Yg</td>\n      <td>h264</td>\n      <td>640 x 360</td>\n      <td>23.976024</td>\n      <td>1</td>\n      <td>0</td>\n      <td>0</td>\n      <td>0</td>\n      <td>1000</td>\n      <td>/work/test_data/tt1723121.02.mp4</td>\n    </tr>\n  </tbody>\n</table>\n</div>"
     },
     "metadata": {}
    }
   ]
  },
  {
   "cell_type": "markdown",
   "source": "### Data processing",
   "metadata": {
    "cell_id": "14f1fcca-b038-4f54-b98e-e54e45138366",
    "tags": [],
    "is_collapsed": false,
    "deepnote_cell_type": "text-cell-h3"
   }
  },
  {
   "cell_type": "markdown",
   "source": "How to feed videos to a neural network for training? <br>\n\n1. Use OpenCV VideoCapture() method to read frames from videos.",
   "metadata": {
    "cell_id": "07f90c3b-a279-4ab5-9501-e37a9bbb0c35",
    "tags": [],
    "deepnote_cell_type": "markdown"
   }
  },
  {
   "cell_type": "code",
   "metadata": {
    "cell_id": "81e2aa7b-587b-4e06-ab22-3f66909bb3ab",
    "tags": [],
    "deepnote_to_be_reexecuted": false,
    "source_hash": "f99f02",
    "execution_start": 1644814294456,
    "execution_millis": 10,
    "deepnote_cell_type": "code"
   },
   "source": "# Utilities to open video files using CV2\ndef crop_center_square(frame):\n    y, x = frame.shape[0:2]\n    min_dim = min(y, x)\n    start_x = (x // 2) - (min_dim // 2)\n    start_y = (y // 2) - (min_dim // 2)\n    return frame[start_y:start_y+min_dim,start_x:start_x+min_dim]\n\ndef load_video(path, max_frames=0, resize=(224, 224)):\n    cap = cv2.VideoCapture(path)\n    frames = []\n    try:\n        while True:\n            ret, frame = cap.read()\n            if not ret:\n                break\n            frame = crop_center_square(frame)\n            frame = cv2.resize(frame, resize)\n            frame = frame[:, :, [2, 1, 0]]\n            frames.append(frame)\n\n            if len(frames) == max_frames:\n                break\n    finally:\n        cap.release()\n    return np.array(frames) / 255.0",
   "execution_count": null,
   "outputs": []
  },
  {
   "cell_type": "markdown",
   "source": "#### Feature Extraction",
   "metadata": {
    "cell_id": "a68d340b-5464-4ca5-bc55-45a3d43ced3c",
    "tags": [],
    "deepnote_cell_type": "markdown"
   }
  },
  {
   "cell_type": "code",
   "metadata": {
    "cell_id": "f786b771-abbd-49f7-8277-f9797e3db451",
    "tags": [],
    "deepnote_to_be_reexecuted": false,
    "source_hash": "a12163ab",
    "execution_start": 1644814297807,
    "execution_millis": 4579,
    "deepnote_cell_type": "code"
   },
   "source": "def build_feature_extractor():\n    feature_extractor = keras.applications.DenseNet121(\n        weights=\"imagenet\",\n        include_top=False,\n        pooling=\"avg\",\n        input_shape=(IMG_SIZE, IMG_SIZE, 3),\n    )\n    preprocess_input = keras.applications.densenet.preprocess_input\n\n    inputs = keras.Input((IMG_SIZE, IMG_SIZE, 3))\n    preprocessed = preprocess_input(inputs)\n\n    outputs = feature_extractor(preprocessed)\n    return keras.Model(inputs, outputs, name=\"feature_extractor\")\n\n\nfeature_extractor = build_feature_extractor()",
   "execution_count": null,
   "outputs": []
  },
  {
   "cell_type": "markdown",
   "source": "#### Label Preprocessing \n\nMultilabel classification -->  Multi-class Binarization\n\n",
   "metadata": {
    "cell_id": "80c029b6-f188-42de-8373-40e907fadd59",
    "tags": [],
    "deepnote_cell_type": "markdown"
   }
  },
  {
   "cell_type": "markdown",
   "source": "No Matrure, No Slapstick, No Gory, No Sarcasm - 0000 <br>\nNo Matrure, No Slapstick, No Gory, Sarcasm - 0001 <br>\nNo Matrure, No Slapstick, Gory, No Sarcasm - 0010 <br>\nNo Matrure, No Slapstick, Gory, Sarcasm - 0011 <br>\nNo Matrure, Slapstick, No Gory, No Sarcasm - 0100 <br>\nNo Matrure, Slapstick, No Gory, Sarcasm - 0101 <br>\nNo Matrure, Slapstick, Gory, No Sarcasm - 0110 <br>\nNo Matrure, Slapstick, Gory, Sarcasm - 0111 <br>\nMatrure, No Slapstick, No Gory, No Sarcasm - 1000 <br>\nMatrure, No Slapstick, No Gory, Sarcasm - 1001 <br>\nMatrure, No Slapstick, Gory, No Sarcasm - 1010 <br>\nMatrure, No Slapstick, Gory, Sarcasm - 1011 <br>\nMatrure, Slapstick, No Gory, No Sarcasm - 1100 <br>\nMatrure, Slapstick, No Gory, Sarcasm - 1101 <br>\nMatrure, Slapstick, Gory, No Sarcasm - 1110 <br>\nMatrure, Slapstick, Gory, Sarcasm - 1111",
   "metadata": {
    "cell_id": "21d6d133-f626-48d3-9e9c-712e5c561422",
    "tags": [],
    "deepnote_cell_type": "markdown"
   }
  },
  {
   "cell_type": "code",
   "metadata": {
    "cell_id": "65203327-f60b-42f0-911d-7b460f2edebe",
    "tags": [],
    "deepnote_to_be_reexecuted": false,
    "source_hash": "32006f2",
    "execution_start": 1644814305741,
    "execution_millis": 136,
    "deepnote_cell_type": "code"
   },
   "source": "# Label preprocessing with StringLookup.\nlabel_processor = keras.layers.StringLookup(\n    num_oov_indices=0, vocabulary=np.unique(train_df[\"combination\"]), mask_token=None\n)\nprint(label_processor.get_vocabulary())",
   "execution_count": null,
   "outputs": [
    {
     "name": "stdout",
     "text": "['0000', '0001', '0010', '0011', '0100', '0101', '0110', '1000', '1001', '1010', '1011', '1100', '1101']\n",
     "output_type": "stream"
    }
   ]
  },
  {
   "cell_type": "code",
   "metadata": {
    "cell_id": "a4d34440-9081-4284-8d0a-1bdba0082008",
    "tags": [],
    "deepnote_to_be_reexecuted": false,
    "source_hash": "52154926",
    "execution_start": 1644814396696,
    "execution_millis": 5,
    "deepnote_cell_type": "code"
   },
   "source": "def prepare_all_videos(df, root_dir):\n    num_samples = len(df)\n    video_paths = df[\"path\"].values.tolist()\n    labels = df[\"combination\"].values\n    labels = label_processor(labels[..., None]).numpy()\n\n    # `frame_features` are what we will feed to our sequence model.\n    frame_features = np.zeros(\n        shape=(num_samples, MAX_SEQ_LENGTH, NUM_FEATURES), dtype=\"float32\"\n    )\n\n    # For each video.\n    for idx, path in enumerate(video_paths):\n        # Gather all its frames and add a batch dimension.\n        frames = load_video(path)\n        print(frames)\n        # Pad shorter videos.\n        if len(frames) < MAX_SEQ_LENGTH:\n            diff = MAX_SEQ_LENGTH - len(frames)\n            padding = np.zeros((diff, IMG_SIZE, IMG_SIZE, 3))\n            frames = np.concatenate(frames, padding)\n\n        frames = frames[None, ...]\n\n        # Initialize placeholder to store the features of the current video.\n        temp_frame_features = np.zeros(\n            shape=(1, MAX_SEQ_LENGTH, NUM_FEATURES), dtype=\"float32\"\n        )\n\n        # Extract features from the frames of the current video.\n        for i, batch in enumerate(frames):\n            video_length = batch.shape[0]\n            length = min(MAX_SEQ_LENGTH, video_length)\n            for j in range(length):\n                if np.mean(batch[j, :]) > 0.0:\n                    temp_frame_features[i, j, :] = feature_extractor.predict(\n                        batch[None, j, :]\n                    )\n\n                else:\n                    temp_frame_features[i, j, :] = 0.0\n\n        frame_features[idx,] = temp_frame_features.squeeze()\n\n    return frame_features, labels",
   "execution_count": null,
   "outputs": []
  },
  {
   "cell_type": "code",
   "metadata": {
    "cell_id": "ad9086d4-2b04-4c49-a991-8b0083510ae8",
    "tags": [],
    "deepnote_to_be_reexecuted": false,
    "source_hash": "4e42359f",
    "execution_start": 1644814397448,
    "execution_millis": 40102,
    "deepnote_cell_type": "code"
   },
   "source": "train_data, train_labels = prepare_all_videos(train_df, \"train_data\")\nval_data, val_labels = prepare_all_videos(val_df, \"val_data\")\ntest_data, test_labels = prepare_all_videos(test_df, \"test_data\")\n\nprint(f\"Frame features in train set: {train_data.shape}\")\nprint(f\"Train labels: {train_labels}\")",
   "execution_count": null,
   "outputs": [
    {
     "name": "stdout",
     "text": "[[[[0.00392157 0.00392157 0.00392157]\n   [0.00392157 0.00392157 0.00392157]\n   [0.00392157 0.00392157 0.00392157]\n   ...\n   [0.00392157 0.00392157 0.00392157]\n   [0.00392157 0.00392157 0.00392157]\n   [0.00392157 0.00392157 0.00392157]]\n\n  [[0.00392157 0.00392157 0.00392157]\n   [0.00392157 0.00392157 0.00392157]\n   [0.00392157 0.00392157 0.00392157]\n   ...\n   [0.00392157 0.00392157 0.00392157]\n   [0.00392157 0.00392157 0.00392157]\n   [0.00392157 0.00392157 0.00392157]]\n\n  [[0.00392157 0.00392157 0.00392157]\n   [0.00392157 0.00392157 0.00392157]\n   [0.00392157 0.00392157 0.00392157]\n   ...\n   [0.00392157 0.00392157 0.00392157]\n   [0.00392157 0.00392157 0.00392157]\n   [0.00392157 0.00392157 0.00392157]]\n\n  ...\n\n  [[0.00392157 0.00392157 0.00392157]\n   [0.00392157 0.00392157 0.00392157]\n   [0.00392157 0.00392157 0.00392157]\n   ...\n   [0.00392157 0.00392157 0.00392157]\n   [0.00392157 0.00392157 0.00392157]\n   [0.00392157 0.00392157 0.00392157]]\n\n  [[0.00392157 0.00392157 0.00392157]\n   [0.00392157 0.00392157 0.00392157]\n   [0.00392157 0.00392157 0.00392157]\n   ...\n   [0.00392157 0.00392157 0.00392157]\n   [0.00392157 0.00392157 0.00392157]\n   [0.00392157 0.00392157 0.00392157]]\n\n  [[0.00392157 0.00392157 0.00392157]\n   [0.00392157 0.00392157 0.00392157]\n   [0.00392157 0.00392157 0.00392157]\n   ...\n   [0.00392157 0.00392157 0.00392157]\n   [0.00392157 0.00392157 0.00392157]\n   [0.00392157 0.00392157 0.00392157]]]\n\n\n [[[0.00392157 0.00392157 0.00392157]\n   [0.00392157 0.00392157 0.00392157]\n   [0.00392157 0.00392157 0.00392157]\n   ...\n   [0.00392157 0.00392157 0.00392157]\n   [0.00392157 0.00392157 0.00392157]\n   [0.00392157 0.00392157 0.00392157]]\n\n  [[0.00392157 0.00392157 0.00392157]\n   [0.00392157 0.00392157 0.00392157]\n   [0.00392157 0.00392157 0.00392157]\n   ...\n   [0.00392157 0.00392157 0.00392157]\n   [0.00392157 0.00392157 0.00392157]\n   [0.00392157 0.00392157 0.00392157]]\n\n  [[0.00392157 0.00392157 0.00392157]\n   [0.00392157 0.00392157 0.00392157]\n   [0.00392157 0.00392157 0.00392157]\n   ...\n   [0.00392157 0.00392157 0.00392157]\n   [0.00392157 0.00392157 0.00392157]\n   [0.00392157 0.00392157 0.00392157]]\n\n  ...\n\n  [[0.00392157 0.00392157 0.00392157]\n   [0.00392157 0.00392157 0.00392157]\n   [0.00392157 0.00392157 0.00392157]\n   ...\n   [0.00392157 0.00392157 0.00392157]\n   [0.00392157 0.00392157 0.00392157]\n   [0.00392157 0.00392157 0.00392157]]\n\n  [[0.00392157 0.00392157 0.00392157]\n   [0.00392157 0.00392157 0.00392157]\n   [0.00392157 0.00392157 0.00392157]\n   ...\n   [0.00392157 0.00392157 0.00392157]\n   [0.00392157 0.00392157 0.00392157]\n   [0.00392157 0.00392157 0.00392157]]\n\n  [[0.00392157 0.00392157 0.00392157]\n   [0.00392157 0.00392157 0.00392157]\n   [0.00392157 0.00392157 0.00392157]\n   ...\n   [0.00392157 0.00392157 0.00392157]\n   [0.00392157 0.00392157 0.00392157]\n   [0.00392157 0.00392157 0.00392157]]]\n\n\n [[[0.00392157 0.00392157 0.00392157]\n   [0.00392157 0.00392157 0.00392157]\n   [0.00392157 0.00392157 0.00392157]\n   ...\n   [0.00392157 0.00392157 0.00392157]\n   [0.00392157 0.00392157 0.00392157]\n   [0.00392157 0.00392157 0.00392157]]\n\n  [[0.00392157 0.00392157 0.00392157]\n   [0.00392157 0.00392157 0.00392157]\n   [0.00392157 0.00392157 0.00392157]\n   ...\n   [0.00392157 0.00392157 0.00392157]\n   [0.00392157 0.00392157 0.00392157]\n   [0.00392157 0.00392157 0.00392157]]\n\n  [[0.00392157 0.00392157 0.00392157]\n   [0.00392157 0.00392157 0.00392157]\n   [0.00392157 0.00392157 0.00392157]\n   ...\n   [0.00392157 0.00392157 0.00392157]\n   [0.00392157 0.00392157 0.00392157]\n   [0.00392157 0.00392157 0.00392157]]\n\n  ...\n\n  [[0.00392157 0.00392157 0.00392157]\n   [0.00392157 0.00392157 0.00392157]\n   [0.00392157 0.00392157 0.00392157]\n   ...\n   [0.00392157 0.00392157 0.00392157]\n   [0.00392157 0.00392157 0.00392157]\n   [0.00392157 0.00392157 0.00392157]]\n\n  [[0.00392157 0.00392157 0.00392157]\n   [0.00392157 0.00392157 0.00392157]\n   [0.00392157 0.00392157 0.00392157]\n   ...\n   [0.00392157 0.00392157 0.00392157]\n   [0.00392157 0.00392157 0.00392157]\n   [0.00392157 0.00392157 0.00392157]]\n\n  [[0.00392157 0.00392157 0.00392157]\n   [0.00392157 0.00392157 0.00392157]\n   [0.00392157 0.00392157 0.00392157]\n   ...\n   [0.00392157 0.00392157 0.00392157]\n   [0.00392157 0.00392157 0.00392157]\n   [0.00392157 0.00392157 0.00392157]]]\n\n\n ...\n\n\n [[[0.00392157 0.00392157 0.00392157]\n   [0.00392157 0.00392157 0.00392157]\n   [0.00392157 0.00392157 0.00392157]\n   ...\n   [0.00392157 0.00392157 0.00392157]\n   [0.00392157 0.00392157 0.00392157]\n   [0.00392157 0.00392157 0.00392157]]\n\n  [[0.00392157 0.00392157 0.00392157]\n   [0.00392157 0.00392157 0.00392157]\n   [0.00392157 0.00392157 0.00392157]\n   ...\n   [0.00392157 0.00392157 0.00392157]\n   [0.00392157 0.00392157 0.00392157]\n   [0.00392157 0.00392157 0.00392157]]\n\n  [[0.00392157 0.00392157 0.00392157]\n   [0.00392157 0.00392157 0.00392157]\n   [0.00392157 0.00392157 0.00392157]\n   ...\n   [0.00392157 0.00392157 0.00392157]\n   [0.00392157 0.00392157 0.00392157]\n   [0.00392157 0.00392157 0.00392157]]\n\n  ...\n\n  [[0.00392157 0.00392157 0.00392157]\n   [0.00392157 0.00392157 0.00392157]\n   [0.00392157 0.00392157 0.00392157]\n   ...\n   [0.00392157 0.00392157 0.00392157]\n   [0.00392157 0.00392157 0.00392157]\n   [0.00392157 0.00392157 0.00392157]]\n\n  [[0.00392157 0.00392157 0.00392157]\n   [0.00392157 0.00392157 0.00392157]\n   [0.00392157 0.00392157 0.00392157]\n   ...\n   [0.00392157 0.00392157 0.00392157]\n   [0.00392157 0.00392157 0.00392157]\n   [0.00392157 0.00392157 0.00392157]]\n\n  [[0.00392157 0.00392157 0.00392157]\n   [0.00392157 0.00392157 0.00392157]\n   [0.00392157 0.00392157 0.00392157]\n   ...\n   [0.00392157 0.00392157 0.00392157]\n   [0.00392157 0.00392157 0.00392157]\n   [0.00392157 0.00392157 0.00392157]]]\n\n\n [[[0.00392157 0.00392157 0.00392157]\n   [0.00392157 0.00392157 0.00392157]\n   [0.00392157 0.00392157 0.00392157]\n   ...\n   [0.00392157 0.00392157 0.00392157]\n   [0.00392157 0.00392157 0.00392157]\n   [0.00392157 0.00392157 0.00392157]]\n\n  [[0.00392157 0.00392157 0.00392157]\n   [0.00392157 0.00392157 0.00392157]\n   [0.00392157 0.00392157 0.00392157]\n   ...\n   [0.00392157 0.00392157 0.00392157]\n   [0.00392157 0.00392157 0.00392157]\n   [0.00392157 0.00392157 0.00392157]]\n\n  [[0.00392157 0.00392157 0.00392157]\n   [0.00392157 0.00392157 0.00392157]\n   [0.00392157 0.00392157 0.00392157]\n   ...\n   [0.00392157 0.00392157 0.00392157]\n   [0.00392157 0.00392157 0.00392157]\n   [0.00392157 0.00392157 0.00392157]]\n\n  ...\n\n  [[0.00392157 0.00392157 0.00392157]\n   [0.00392157 0.00392157 0.00392157]\n   [0.00392157 0.00392157 0.00392157]\n   ...\n   [0.00392157 0.00392157 0.00392157]\n   [0.00392157 0.00392157 0.00392157]\n   [0.00392157 0.00392157 0.00392157]]\n\n  [[0.00392157 0.00392157 0.00392157]\n   [0.00392157 0.00392157 0.00392157]\n   [0.00392157 0.00392157 0.00392157]\n   ...\n   [0.00392157 0.00392157 0.00392157]\n   [0.00392157 0.00392157 0.00392157]\n   [0.00392157 0.00392157 0.00392157]]\n\n  [[0.00392157 0.00392157 0.00392157]\n   [0.00392157 0.00392157 0.00392157]\n   [0.00392157 0.00392157 0.00392157]\n   ...\n   [0.00392157 0.00392157 0.00392157]\n   [0.00392157 0.00392157 0.00392157]\n   [0.00392157 0.00392157 0.00392157]]]\n\n\n [[[0.00392157 0.00392157 0.00392157]\n   [0.00392157 0.00392157 0.00392157]\n   [0.00392157 0.00392157 0.00392157]\n   ...\n   [0.00392157 0.00392157 0.00392157]\n   [0.00392157 0.00392157 0.00392157]\n   [0.00392157 0.00392157 0.00392157]]\n\n  [[0.00392157 0.00392157 0.00392157]\n   [0.00392157 0.00392157 0.00392157]\n   [0.00392157 0.00392157 0.00392157]\n   ...\n   [0.00392157 0.00392157 0.00392157]\n   [0.00392157 0.00392157 0.00392157]\n   [0.00392157 0.00392157 0.00392157]]\n\n  [[0.00392157 0.00392157 0.00392157]\n   [0.00392157 0.00392157 0.00392157]\n   [0.00392157 0.00392157 0.00392157]\n   ...\n   [0.00392157 0.00392157 0.00392157]\n   [0.00392157 0.00392157 0.00392157]\n   [0.00392157 0.00392157 0.00392157]]\n\n  ...\n\n  [[0.00392157 0.00392157 0.00392157]\n   [0.00392157 0.00392157 0.00392157]\n   [0.00392157 0.00392157 0.00392157]\n   ...\n   [0.00392157 0.00392157 0.00392157]\n   [0.00392157 0.00392157 0.00392157]\n   [0.00392157 0.00392157 0.00392157]]\n\n  [[0.00392157 0.00392157 0.00392157]\n   [0.00392157 0.00392157 0.00392157]\n   [0.00392157 0.00392157 0.00392157]\n   ...\n   [0.00392157 0.00392157 0.00392157]\n   [0.00392157 0.00392157 0.00392157]\n   [0.00392157 0.00392157 0.00392157]]\n\n  [[0.00392157 0.00392157 0.00392157]\n   [0.00392157 0.00392157 0.00392157]\n   [0.00392157 0.00392157 0.00392157]\n   ...\n   [0.00392157 0.00392157 0.00392157]\n   [0.00392157 0.00392157 0.00392157]\n   [0.00392157 0.00392157 0.00392157]]]]\n",
     "output_type": "stream"
    },
    {
     "output_type": "error",
     "ename": "KernelInterrupted",
     "evalue": "Execution interrupted by the Jupyter kernel.",
     "traceback": [
      "\u001b[0;31m---------------------------------------------------------------------------\u001b[0m",
      "\u001b[0;31mKernelInterrupted\u001b[0m: Execution interrupted by the Jupyter kernel."
     ]
    }
   ]
  },
  {
   "cell_type": "markdown",
   "source": "## Build the Transformer-based model (not completed) - BASE MODEL",
   "metadata": {
    "cell_id": "b428fb81-cd25-48f5-9742-1f7ea202064d",
    "tags": [],
    "is_collapsed": false,
    "deepnote_cell_type": "text-cell-h2"
   }
  },
  {
   "cell_type": "code",
   "metadata": {
    "cell_id": "e36a7e79-836f-4942-a832-d53954293523",
    "tags": [],
    "deepnote_to_be_reexecuted": true,
    "source_hash": "51248883",
    "deepnote_cell_type": "code"
   },
   "source": "# Embedding Layer\nclass PositionalEmbedding(layers.Layer):\n    def __init__(self, sequence_length, output_dim, **kwargs):\n        super().__init__(**kwargs)\n        self.position_embeddings = layers.Embedding(\n            input_dim=sequence_length, output_dim=output_dim\n        )\n        self.sequence_length = sequence_length\n        self.output_dim = output_dim\n\n    def call(self, inputs):\n        # The inputs are of shape: `(batch_size, frames, num_features)`\n        length = tf.shape(inputs)[1]\n        positions = tf.range(start=0, limit=length, delta=1)\n        embedded_positions = self.position_embeddings(positions)\n        return inputs + embedded_positions\n\n    def compute_mask(self, inputs, mask=None):\n        mask = tf.reduce_any(tf.cast(inputs, \"bool\"), axis=-1)\n        return mask",
   "execution_count": null,
   "outputs": []
  },
  {
   "cell_type": "code",
   "metadata": {
    "cell_id": "3e2e67d3-0540-476b-b812-04d019aa8269",
    "tags": [],
    "deepnote_to_be_reexecuted": true,
    "source_hash": "521c40ea",
    "deepnote_cell_type": "code"
   },
   "source": "# Subclassed layer\nclass TransformerEncoder(layers.Layer):\n    def __init__(self, embed_dim, dense_dim, num_heads, **kwargs):\n        super().__init__(**kwargs)\n        self.embed_dim = embed_dim\n        self.dense_dim = dense_dim\n        self.num_heads = num_heads\n        self.attention = layers.MultiHeadAttention(\n            num_heads=num_heads, key_dim=embed_dim, dropout=0.3\n        )\n        self.dense_proj = keras.Sequential(\n            [layers.Dense(dense_dim, activation=tf.nn.gelu), layers.Dense(embed_dim),]\n        )\n        self.layernorm_1 = layers.LayerNormalization()\n        self.layernorm_2 = layers.LayerNormalization()\n\n    def call(self, inputs, mask=None):\n        if mask is not None:\n            mask = mask[:, tf.newaxis, :]\n\n        attention_output = self.attention(inputs, inputs, attention_mask=mask)\n        proj_input = self.layernorm_1(inputs + attention_output)\n        proj_output = self.dense_proj(proj_input)\n        return self.layernorm_2(proj_input + proj_output)",
   "execution_count": null,
   "outputs": []
  },
  {
   "cell_type": "markdown",
   "source": "## Model Training and Testing",
   "metadata": {
    "cell_id": "ae7a96a5-1e99-4eb3-8183-430d4b85f098",
    "tags": [],
    "is_collapsed": false,
    "deepnote_cell_type": "text-cell-h2"
   }
  },
  {
   "cell_type": "markdown",
   "source": "<a style='text-decoration:none;line-height:16px;display:flex;color:#5B5B62;padding:10px;justify-content:end;' href='https://deepnote.com?utm_source=created-in-deepnote-cell&projectId=7327af42-8a03-4c46-b38e-e6931aa020f3' target=\"_blank\">\n<img alt='Created in deepnote.com' style='display:inline;max-height:16px;margin:0px;margin-right:7.5px;' src='data:image/svg+xml;base64,PD94bWwgdmVyc2lvbj0iMS4wIiBlbmNvZGluZz0iVVRGLTgiPz4KPHN2ZyB3aWR0aD0iODBweCIgaGVpZ2h0PSI4MHB4IiB2aWV3Qm94PSIwIDAgODAgODAiIHZlcnNpb249IjEuMSIgeG1sbnM9Imh0dHA6Ly93d3cudzMub3JnLzIwMDAvc3ZnIiB4bWxuczp4bGluaz0iaHR0cDovL3d3dy53My5vcmcvMTk5OS94bGluayI+CiAgICA8IS0tIEdlbmVyYXRvcjogU2tldGNoIDU0LjEgKDc2NDkwKSAtIGh0dHBzOi8vc2tldGNoYXBwLmNvbSAtLT4KICAgIDx0aXRsZT5Hcm91cCAzPC90aXRsZT4KICAgIDxkZXNjPkNyZWF0ZWQgd2l0aCBTa2V0Y2guPC9kZXNjPgogICAgPGcgaWQ9IkxhbmRpbmciIHN0cm9rZT0ibm9uZSIgc3Ryb2tlLXdpZHRoPSIxIiBmaWxsPSJub25lIiBmaWxsLXJ1bGU9ImV2ZW5vZGQiPgogICAgICAgIDxnIGlkPSJBcnRib2FyZCIgdHJhbnNmb3JtPSJ0cmFuc2xhdGUoLTEyMzUuMDAwMDAwLCAtNzkuMDAwMDAwKSI+CiAgICAgICAgICAgIDxnIGlkPSJHcm91cC0zIiB0cmFuc2Zvcm09InRyYW5zbGF0ZSgxMjM1LjAwMDAwMCwgNzkuMDAwMDAwKSI+CiAgICAgICAgICAgICAgICA8cG9seWdvbiBpZD0iUGF0aC0yMCIgZmlsbD0iIzAyNjVCNCIgcG9pbnRzPSIyLjM3NjIzNzYyIDgwIDM4LjA0NzY2NjcgODAgNTcuODIxNzgyMiA3My44MDU3NTkyIDU3LjgyMTc4MjIgMzIuNzU5MjczOSAzOS4xNDAyMjc4IDMxLjY4MzE2ODMiPjwvcG9seWdvbj4KICAgICAgICAgICAgICAgIDxwYXRoIGQ9Ik0zNS4wMDc3MTgsODAgQzQyLjkwNjIwMDcsNzYuNDU0OTM1OCA0Ny41NjQ5MTY3LDcxLjU0MjI2NzEgNDguOTgzODY2LDY1LjI2MTk5MzkgQzUxLjExMjI4OTksNTUuODQxNTg0MiA0MS42NzcxNzk1LDQ5LjIxMjIyODQgMjUuNjIzOTg0Niw0OS4yMTIyMjg0IEMyNS40ODQ5Mjg5LDQ5LjEyNjg0NDggMjkuODI2MTI5Niw0My4yODM4MjQ4IDM4LjY0NzU4NjksMzEuNjgzMTY4MyBMNzIuODcxMjg3MSwzMi41NTQ0MjUgTDY1LjI4MDk3Myw2Ny42NzYzNDIxIEw1MS4xMTIyODk5LDc3LjM3NjE0NCBMMzUuMDA3NzE4LDgwIFoiIGlkPSJQYXRoLTIyIiBmaWxsPSIjMDAyODY4Ij48L3BhdGg+CiAgICAgICAgICAgICAgICA8cGF0aCBkPSJNMCwzNy43MzA0NDA1IEwyNy4xMTQ1MzcsMC4yNTcxMTE0MzYgQzYyLjM3MTUxMjMsLTEuOTkwNzE3MDEgODAsMTAuNTAwMzkyNyA4MCwzNy43MzA0NDA1IEM4MCw2NC45NjA0ODgyIDY0Ljc3NjUwMzgsNzkuMDUwMzQxNCAzNC4zMjk1MTEzLDgwIEM0Ny4wNTUzNDg5LDc3LjU2NzA4MDggNTMuNDE4MjY3Nyw3MC4zMTM2MTAzIDUzLjQxODI2NzcsNTguMjM5NTg4NSBDNTMuNDE4MjY3Nyw0MC4xMjg1NTU3IDM2LjMwMzk1NDQsMzcuNzMwNDQwNSAyNS4yMjc0MTcsMzcuNzMwNDQwNSBDMTcuODQzMDU4NiwzNy43MzA0NDA1IDkuNDMzOTE5NjYsMzcuNzMwNDQwNSAwLDM3LjczMDQ0MDUgWiIgaWQ9IlBhdGgtMTkiIGZpbGw9IiMzNzkzRUYiPjwvcGF0aD4KICAgICAgICAgICAgPC9nPgogICAgICAgIDwvZz4KICAgIDwvZz4KPC9zdmc+' > </img>\nCreated in <span style='font-weight:600;margin-left:4px;'>Deepnote</span></a>",
   "metadata": {
    "tags": [],
    "created_in_deepnote_cell": true,
    "deepnote_cell_type": "markdown"
   }
  }
 ],
 "nbformat": 4,
 "nbformat_minor": 2,
 "metadata": {
  "orig_nbformat": 2,
  "deepnote": {
   "is_reactive": false
  },
  "deepnote_notebook_id": "05ab0b75-b65c-4d2b-b56a-635b53176e13",
  "deepnote_execution_queue": []
 }
}